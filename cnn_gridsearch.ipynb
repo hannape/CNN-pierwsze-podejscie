{
  "nbformat": 4,
  "nbformat_minor": 0,
  "metadata": {
    "colab": {
      "name": "cnn_gridsearch.ipynb",
      "version": "0.3.2",
      "provenance": [],
      "include_colab_link": true
    },
    "kernelspec": {
      "name": "python3",
      "display_name": "Python 3"
    },
    "accelerator": "GPU"
  },
  "cells": [
    {
      "cell_type": "markdown",
      "metadata": {
        "id": "view-in-github",
        "colab_type": "text"
      },
      "source": [
        "<a href=\"https://colab.research.google.com/github/hannape/CNN-pierwsze-podejscie/blob/master/cnn_gridsearch.ipynb\" target=\"_parent\"><img src=\"https://colab.research.google.com/assets/colab-badge.svg\" alt=\"Open In Colab\"/></a>"
      ]
    },
    {
      "metadata": {
        "id": "hT7H1AgFX8wi",
        "colab_type": "code",
        "outputId": "85d3331c-87a6-4b0c-f141-aeaf3c96d221",
        "colab": {
          "base_uri": "https://localhost:8080/",
          "height": 54
        }
      },
      "cell_type": "code",
      "source": [
        "import keras\n",
        "from sklearn.metrics import roc_auc_score\n",
        "\n",
        "class Histories(keras.callbacks.Callback):\n",
        "\tdef on_train_begin(self, logs={}):\n",
        "\t\tself.aucs = []\n",
        "\t\tself.losses = []\n",
        "\n",
        "\tdef on_train_end(self, logs={}):\n",
        "\t\treturn\n",
        "\n",
        "\tdef on_epoch_begin(self, epoch, logs={}):\n",
        "\t\treturn\n",
        "\n",
        "\tdef on_epoch_end(self, epoch, logs={}):\n",
        "\t\tself.losses.append(logs.get('loss'))\n",
        "\t\ty_pred = self.model.predict(self.validation_data[0])\n",
        "\t\tself.aucs.append(roc_auc_score(self.validation_data[1], y_pred))\n",
        "\t\ta = (roc_auc_score(self.validation_data[1], y_pred))\n",
        "\t\tprint(\" AUC_on_val: %f \" % a)\n",
        "\t\treturn\n",
        "\n",
        "\tdef on_batch_begin(self, batch, logs={}):\n",
        "\t\treturn\n",
        "\n",
        "\tdef on_batch_end(self, batch, logs={}):    return\n",
        "  \n",
        "from google.colab import drive\n",
        "drive.mount('/content/drive')\n"
      ],
      "execution_count": 1,
      "outputs": [
        {
          "output_type": "stream",
          "text": [
            "Using TensorFlow backend.\n"
          ],
          "name": "stderr"
        },
        {
          "output_type": "stream",
          "text": [
            "Drive already mounted at /content/drive; to attempt to forcibly remount, call drive.mount(\"/content/drive\", force_remount=True).\n"
          ],
          "name": "stdout"
        }
      ]
    },
    {
      "metadata": {
        "id": "jUs78Pg157U2",
        "colab_type": "code",
        "outputId": "a8c1088e-e908-4b95-ca8c-fe5c088a8725",
        "colab": {
          "base_uri": "https://localhost:8080/",
          "height": 54
        }
      },
      "cell_type": "code",
      "source": [
        "'''Example of how to use sklearn wrapper\n",
        "\n",
        "Builds simple CNN models on MNIST and uses sklearn's GridSearchCV to find best model\n",
        "'''\n",
        "\n",
        "from __future__ import print_function\n",
        "\n",
        "import keras\n",
        "import numpy\n",
        "from keras.datasets import mnist\n",
        "from keras.models import Sequential\n",
        "from keras.layers import Dense, Dropout, Activation, Flatten\n",
        "from keras.layers import Conv2D, MaxPooling2D\n",
        "from keras.wrappers.scikit_learn import KerasClassifier\n",
        "from keras import backend as K\n",
        "from sklearn.model_selection import GridSearchCV\n",
        "\n",
        "import numpy\n",
        "import keras\n",
        "from keras.models import Sequential\n",
        "from keras.layers import Dense\n",
        "from keras.layers import Dropout\n",
        "from keras.layers import Flatten\n",
        "from keras.layers.convolutional import Conv2D\n",
        "from keras.layers.convolutional import MaxPooling2D\n",
        "from keras.utils import np_utils\n",
        "from keras import backend as K\n",
        "from sklearn.metrics import roc_curve\n",
        "from sklearn.metrics import roc_auc_score\n",
        "from matplotlib import pyplot\n",
        "K.set_image_dim_ordering('th')\n",
        "import numpy as np\n",
        "from sklearn import preprocessing\n",
        "from keras.datasets import mnist\n",
        "import glob\n",
        "import os\n",
        "import random\n",
        "import pandas as pd\n",
        "from sklearn.model_selection import train_test_split\n",
        "import matplotlib.pyplot as plt\n",
        "\n",
        "num_classes = 2\n",
        "\n",
        "# input image dimensions\n",
        "#img_rows, img_cols = 28, 28\n",
        "\n",
        "# load training data and do basic data normalization\n",
        "#(x_train, y_train), (x_test, y_test) = mnist.load_data()\n",
        "\n",
        "X_train = numpy.load('drive/My Drive/X_train.npy')\n",
        "y_train = numpy.load('drive/My Drive/y_train.npy')\n",
        "X_test = numpy.load('drive/My Drive/X_test.npy')\n",
        "y_test = numpy.load('drive/My Drive/y_test.npy')\n",
        "\n",
        "X_train = X_train.reshape(X_train.shape[0], 1, 60, 87).astype('float32')\n",
        "#X_val = X_val.reshape(X_val.shape[0], 1, 60, 87).astype('float32')\n",
        "X_test = X_test.reshape(X_test.shape[0], 1, 60, 87).astype('float32')\n",
        "\n",
        "\n",
        "'''if K.image_data_format() == 'channels_first':\n",
        "    x_train = x_train.reshape(x_train.shape[0], 1, img_rows, img_cols)\n",
        "    x_test = x_test.reshape(x_test.shape[0], 1, img_rows, img_cols)\n",
        "    input_shape = (1, img_rows, img_cols)\n",
        "else:\n",
        "    x_train = x_train.reshape(x_train.shape[0], img_rows, img_cols, 1)\n",
        "    x_test = x_test.reshape(x_test.shape[0], img_rows, img_cols, 1)\n",
        "    input_shape = (img_rows, img_cols, 1)\n",
        "\n",
        "x_train = x_train.astype('float32')\n",
        "x_test = x_test.astype('float32')\n",
        "x_train /= 255\n",
        "x_test /= 255'''\n",
        "\n",
        "input_shape = (1, 60, 87)\n",
        "# convert class vectors to binary class matrices\n",
        "#y_train = keras.utils.to_categorical(y_train, num_classes)\n",
        "#y_test = keras.utils.to_categorical(y_test, num_classes)\n",
        "print (X_train.shape, y_train.shape)\n",
        "print (X_test.shape, y_test.shape)\n"
      ],
      "execution_count": 2,
      "outputs": [
        {
          "output_type": "stream",
          "text": [
            "(30581, 1, 60, 87) (30581,)\n",
            "(10793, 1, 60, 87) (10793,)\n"
          ],
          "name": "stdout"
        }
      ]
    },
    {
      "metadata": {
        "id": "XXXL6keoH1l4",
        "colab_type": "code",
        "cellView": "form",
        "colab": {}
      },
      "cell_type": "code",
      "source": [
        "#@title\n",
        "def make_model(dense_layer_sizes, filters, kernel_size, pool_size):\n",
        "    model = Sequential()\n",
        "    model.add(Conv2D(filters, kernel_size,input_shape=input_shape, activation='relu'))\n",
        "    #model.add(Activation('relu'))\n",
        "    #model.add(Conv2D(filters, kernel_size))\n",
        "    #model.add(Activation('relu'))\n",
        "    model.add(MaxPooling2D(pool_size=pool_size))\n",
        "    model.add(Dropout(0.25))\n",
        "\n",
        "    model.add(Flatten())\n",
        "    #for layer_size in dense_layer_sizes:\n",
        "    model.add(Dense(dense_layer_sizes))\n",
        "    model.add(Activation('relu'))\n",
        "    model.add(Dropout(0.5))\n",
        "    model.add(Dense(1))\n",
        "    model.add(Activation('softmax'))\n",
        "    model.compile(loss='binary_crossentropy',\n",
        "                  optimizer='adadelta',\n",
        "                  metrics=['accuracy'])\n",
        "\n",
        "    return model\n",
        "\n"
      ],
      "execution_count": 0,
      "outputs": []
    },
    {
      "metadata": {
        "id": "pDsoy0g8VlB5",
        "colab_type": "code",
        "colab": {}
      },
      "cell_type": "code",
      "source": [
        "def make_model_modified(dense_layer_sizes, filters, kernel_size, pool_size):\n",
        "    model = Sequential()\n",
        "    model.add(Conv2D(filters, kernel_size,input_shape=input_shape, activation='relu'))\n",
        "    model.add(MaxPooling2D(pool_size=pool_size))\n",
        "    model.add(Conv2D(filters, kernel_size, activation='relu'))\n",
        "    model.add(MaxPooling2D(pool_size=pool_size))\n",
        "    model.add(Conv2D(filters, kernel_size, activation='relu'))\n",
        "    model.add(MaxPooling2D(pool_size=pool_size))\n",
        "   \n",
        "    model.add(Flatten())\n",
        "    model.add(Dense(dense_layer_sizes, activation='relu'))\n",
        "    model.add(Dropout(0.2))\n",
        "    model.add(Dense(32, activation='relu'))\n",
        "    model.add(Dropout(0.2))\n",
        "    model.add(Dense(1, activation='sigmoid'))\n",
        "    model.compile(loss='binary_crossentropy',\n",
        "                  optimizer='adam',\n",
        "                  metrics=['accuracy'])\n",
        "\n",
        "    return model"
      ],
      "execution_count": 0,
      "outputs": []
    },
    {
      "metadata": {
        "id": "wmUkJOKTM_Wo",
        "colab_type": "code",
        "cellView": "form",
        "colab": {}
      },
      "cell_type": "code",
      "source": [
        "#@title\n",
        "def larger_model():\n",
        "  model = Sequential()\n",
        "  model.add(Conv2D(20, (3,3), input_shape=(1, 60, 87), activation='relu'))\n",
        "  model.add(MaxPooling2D(pool_size=(2, 2)))\n",
        "  model.add(Conv2D(20, (3, 3), activation='relu'))\n",
        "  model.add(MaxPooling2D(pool_size=(2, 2)))\n",
        "  model.add(Conv2D(20, (3, 3), activation='relu'))\n",
        "  model.add(MaxPooling2D(pool_size=(2, 2)))\n",
        "  model.add(Flatten())\n",
        "  model.add(Dense(256, activation='relu'))\n",
        "  model.add(Dropout(0.2))\n",
        "  model.add(Dense(32, activation='relu'))\n",
        "  model.add(Dropout(0.2))\n",
        "  model.add(Dense(1, activation='sigmoid'))\n",
        "  # Compile model\n",
        "  #model.compile(loss=roc_auc_score_loss, optimizer='adam', metrics=['accuracy','mae'])\n",
        "  model.compile(loss='binary_crossentropy', optimizer='adam', metrics=['accuracy'])\n",
        "  return model\n",
        "\n",
        "  "
      ],
      "execution_count": 0,
      "outputs": []
    },
    {
      "metadata": {
        "id": "7YQJvxfSN1Iy",
        "colab_type": "code",
        "colab": {}
      },
      "cell_type": "code",
      "source": [
        "# build the model\n",
        "#del model\n",
        "#dense_size_candidates = [[32], [64], [32, 32], [64, 64]]\n",
        "#model = make_model(5, 20, 3, 2)\n",
        "#model.fit(X_train, y_train, epochs=5, batch_size=32)\n",
        "\n",
        "my_classifier = KerasClassifier(make_model_modified)\n",
        "validator = GridSearchCV(my_classifier,\n",
        "                         param_grid={'dense_layer_sizes': [128],\n",
        "                                     # epochs is avail for tuning even when not\n",
        "                                     # an argument to model building function\n",
        "                                     'epochs': [15],\n",
        "                                     'filters': [20],\n",
        "                                     'kernel_size': [(3,3)],\n",
        "                                     'pool_size': [(2,2)],\n",
        "                                     'batch_size': [64]}, \n",
        "                         scoring='neg_log_loss', n_jobs=1)\n"
      ],
      "execution_count": 0,
      "outputs": []
    },
    {
      "metadata": {
        "id": "qC9TynBWTR0E",
        "colab_type": "code",
        "outputId": "518ce1bc-a4d8-4133-b83e-72e34d2661d8",
        "colab": {
          "base_uri": "https://localhost:8080/",
          "height": 2239
        }
      },
      "cell_type": "code",
      "source": [
        "histories = Histories()\n",
        "\n",
        "from sklearn.utils import class_weight\n",
        "class_weights = class_weight.compute_class_weight('balanced',numpy.unique(y_train),y_train)\n",
        "print(class_weights)\n",
        "\n",
        "grid_result = validator.fit(X_train, y_train, class_weight = class_weights)"
      ],
      "execution_count": 6,
      "outputs": [
        {
          "output_type": "stream",
          "text": [
            "[ 0.50930984 27.35330948]\n",
            "Epoch 1/15\n",
            "20387/20387 [==============================] - 12s 589us/step - loss: 0.0894 - acc: 0.9883\n",
            "Epoch 2/15\n",
            "20387/20387 [==============================] - 10s 474us/step - loss: 0.0630 - acc: 0.9893\n",
            "Epoch 3/15\n",
            "20387/20387 [==============================] - 10s 474us/step - loss: 0.0633 - acc: 0.9893\n",
            "Epoch 4/15\n",
            "20387/20387 [==============================] - 10s 476us/step - loss: 0.0632 - acc: 0.9893\n",
            "Epoch 5/15\n",
            "20387/20387 [==============================] - 10s 472us/step - loss: 0.0641 - acc: 0.9893\n",
            "Epoch 6/15\n",
            "20387/20387 [==============================] - 10s 473us/step - loss: 0.0617 - acc: 0.9893\n",
            "Epoch 7/15\n",
            "20387/20387 [==============================] - 10s 481us/step - loss: 0.0619 - acc: 0.9893\n",
            "Epoch 8/15\n",
            "20387/20387 [==============================] - 6s 309us/step - loss: 0.0618 - acc: 0.9893\n",
            "Epoch 9/15\n",
            "20387/20387 [==============================] - 6s 277us/step - loss: 0.0611 - acc: 0.9893\n",
            "Epoch 10/15\n",
            "20387/20387 [==============================] - 6s 276us/step - loss: 0.0615 - acc: 0.9893\n",
            "Epoch 11/15\n",
            "20387/20387 [==============================] - 6s 274us/step - loss: 0.0602 - acc: 0.9894\n",
            "Epoch 12/15\n",
            "20387/20387 [==============================] - 6s 274us/step - loss: 0.0608 - acc: 0.9894\n",
            "Epoch 13/15\n",
            "20387/20387 [==============================] - 8s 408us/step - loss: 0.0607 - acc: 0.9894\n",
            "Epoch 14/15\n",
            "20387/20387 [==============================] - 6s 278us/step - loss: 0.0608 - acc: 0.9894\n",
            "Epoch 15/15\n",
            "20387/20387 [==============================] - 6s 277us/step - loss: 0.0600 - acc: 0.9894\n",
            "Epoch 1/15\n",
            "20387/20387 [==============================] - 6s 297us/step - loss: 0.1256 - acc: 0.9793\n",
            "Epoch 2/15\n",
            "20387/20387 [==============================] - 6s 272us/step - loss: 0.1057 - acc: 0.9793\n",
            "Epoch 3/15\n",
            "20387/20387 [==============================] - 6s 275us/step - loss: 0.1053 - acc: 0.9793\n",
            "Epoch 4/15\n",
            "20387/20387 [==============================] - 6s 281us/step - loss: 0.1046 - acc: 0.9793\n",
            "Epoch 5/15\n",
            "20387/20387 [==============================] - 6s 273us/step - loss: 0.1074 - acc: 0.9793\n",
            "Epoch 6/15\n",
            "20387/20387 [==============================] - 6s 276us/step - loss: 0.1043 - acc: 0.9793\n",
            "Epoch 7/15\n",
            "20387/20387 [==============================] - 6s 275us/step - loss: 0.1051 - acc: 0.9793\n",
            "Epoch 8/15\n",
            "20387/20387 [==============================] - 6s 272us/step - loss: 0.1046 - acc: 0.9793\n",
            "Epoch 9/15\n",
            "20387/20387 [==============================] - 6s 274us/step - loss: 0.1043 - acc: 0.9793\n",
            "Epoch 10/15\n",
            "20387/20387 [==============================] - 6s 274us/step - loss: 0.1034 - acc: 0.9793\n",
            "Epoch 11/15\n",
            "20387/20387 [==============================] - 6s 274us/step - loss: 0.1040 - acc: 0.9793\n",
            "Epoch 12/15\n",
            "20387/20387 [==============================] - 6s 271us/step - loss: 0.1038 - acc: 0.9794\n",
            "Epoch 13/15\n",
            "20387/20387 [==============================] - 6s 270us/step - loss: 0.1025 - acc: 0.9794\n",
            "Epoch 14/15\n",
            "20387/20387 [==============================] - 5s 268us/step - loss: 0.1021 - acc: 0.9794\n",
            "Epoch 15/15\n",
            "20387/20387 [==============================] - 6s 273us/step - loss: 0.1024 - acc: 0.9794\n",
            "Epoch 1/15\n",
            "20388/20388 [==============================] - 6s 305us/step - loss: 0.1398 - acc: 0.9737\n",
            "Epoch 2/15\n",
            "20388/20388 [==============================] - 6s 275us/step - loss: 0.1166 - acc: 0.9765\n",
            "Epoch 3/15\n",
            "20388/20388 [==============================] - 6s 271us/step - loss: 0.1132 - acc: 0.9765\n",
            "Epoch 4/15\n",
            "20388/20388 [==============================] - 6s 278us/step - loss: 0.1134 - acc: 0.9765\n",
            "Epoch 5/15\n",
            "20388/20388 [==============================] - 6s 275us/step - loss: 0.1127 - acc: 0.9765\n",
            "Epoch 6/15\n",
            "20388/20388 [==============================] - 6s 276us/step - loss: 0.1122 - acc: 0.9765\n",
            "Epoch 7/15\n",
            "20388/20388 [==============================] - 6s 274us/step - loss: 0.1118 - acc: 0.9765\n",
            "Epoch 8/15\n",
            "20388/20388 [==============================] - 6s 272us/step - loss: 0.1110 - acc: 0.9767\n",
            "Epoch 9/15\n",
            "20388/20388 [==============================] - 6s 270us/step - loss: 0.1105 - acc: 0.9768\n",
            "Epoch 10/15\n",
            "20388/20388 [==============================] - 6s 270us/step - loss: 0.1108 - acc: 0.9769\n",
            "Epoch 11/15\n",
            "20388/20388 [==============================] - 6s 275us/step - loss: 0.1061 - acc: 0.9779\n",
            "Epoch 12/15\n",
            "20388/20388 [==============================] - 6s 276us/step - loss: 0.0977 - acc: 0.9791\n",
            "Epoch 13/15\n",
            "20388/20388 [==============================] - 6s 276us/step - loss: 0.0890 - acc: 0.9814\n",
            "Epoch 14/15\n",
            "20388/20388 [==============================] - 6s 273us/step - loss: 0.0792 - acc: 0.9829\n",
            "Epoch 15/15\n",
            "20388/20388 [==============================] - 6s 271us/step - loss: 0.0743 - acc: 0.9840\n",
            "Epoch 1/15\n",
            "30581/30581 [==============================] - 9s 300us/step - loss: 0.1166 - acc: 0.9798\n",
            "Epoch 2/15\n",
            "30581/30581 [==============================] - 8s 274us/step - loss: 0.0958 - acc: 0.9817\n",
            "Epoch 3/15\n",
            "30581/30581 [==============================] - 8s 270us/step - loss: 0.0943 - acc: 0.9817\n",
            "Epoch 4/15\n",
            "30581/30581 [==============================] - 8s 276us/step - loss: 0.0944 - acc: 0.9817\n",
            "Epoch 5/15\n",
            "30581/30581 [==============================] - 8s 276us/step - loss: 0.0930 - acc: 0.9817\n",
            "Epoch 6/15\n",
            "30581/30581 [==============================] - 8s 273us/step - loss: 0.0941 - acc: 0.9817\n",
            "Epoch 7/15\n",
            "30581/30581 [==============================] - 8s 273us/step - loss: 0.0929 - acc: 0.9818\n",
            "Epoch 8/15\n",
            "30581/30581 [==============================] - 8s 275us/step - loss: 0.0930 - acc: 0.9818\n",
            "Epoch 9/15\n",
            "30581/30581 [==============================] - 8s 273us/step - loss: 0.0935 - acc: 0.9817\n",
            "Epoch 10/15\n",
            "30581/30581 [==============================] - 8s 270us/step - loss: 0.0927 - acc: 0.9817\n",
            "Epoch 11/15\n",
            "30581/30581 [==============================] - 8s 273us/step - loss: 0.0926 - acc: 0.9817\n",
            "Epoch 12/15\n",
            "30581/30581 [==============================] - 8s 275us/step - loss: 0.0911 - acc: 0.9819\n",
            "Epoch 13/15\n",
            "30581/30581 [==============================] - 8s 274us/step - loss: 0.0901 - acc: 0.9820\n",
            "Epoch 14/15\n",
            "30581/30581 [==============================] - 8s 274us/step - loss: 0.0836 - acc: 0.9828\n",
            "Epoch 15/15\n",
            "30581/30581 [==============================] - 8s 272us/step - loss: 0.0743 - acc: 0.9846\n"
          ],
          "name": "stdout"
        }
      ]
    },
    {
      "metadata": {
        "id": "i_sHRwZ5UZ9h",
        "colab_type": "code",
        "outputId": "1389b95d-6593-43db-b5e2-a7ebbbe71610",
        "colab": {
          "base_uri": "https://localhost:8080/",
          "height": 127
        }
      },
      "cell_type": "code",
      "source": [
        "print('The parameters of the best model are: ')\n",
        "print(validator.best_params_)\n",
        "\n",
        "best_model = validator.best_estimator_.model\n",
        "metric_names = best_model.metrics_names\n",
        "metric_values = best_model.evaluate(X_test, y_test)\n",
        "for metric, value in zip(metric_names, metric_values):\n",
        "  print(metric, ': ', value)\n",
        "  \n",
        "means = grid_result.cv_results_['mean_test_score']\n",
        "stds = grid_result.cv_results_['std_test_score']\n",
        "params = grid_result.cv_results_['params']\n",
        "for mean, stdev, param in zip(means, stds, params):\n",
        "  print(\"%f (%f) with: %r\" % (mean, stdev, param))\n",
        "  \n",
        "  "
      ],
      "execution_count": 7,
      "outputs": [
        {
          "output_type": "stream",
          "text": [
            "The parameters of the best model are: \n",
            "{'batch_size': 64, 'dense_layer_sizes': 128, 'epochs': 15, 'filters': 20, 'kernel_size': (3, 3), 'pool_size': (2, 2)}\n",
            "10793/10793 [==============================] - 2s 172us/step\n",
            "loss :  0.20073183297960429\n",
            "acc :  0.9650699527471509\n",
            "-0.099441 (0.051126) with: {'batch_size': 64, 'dense_layer_sizes': 128, 'epochs': 15, 'filters': 20, 'kernel_size': (3, 3), 'pool_size': (2, 2)}\n"
          ],
          "name": "stdout"
        }
      ]
    },
    {
      "metadata": {
        "id": "NvvRbL1KPSSK",
        "colab_type": "code",
        "outputId": "18297c16-4e41-42cc-8d35-30c17202cc5d",
        "colab": {
          "base_uri": "https://localhost:8080/",
          "height": 380
        }
      },
      "cell_type": "code",
      "source": [
        "# calculate AUC of final model on a test set\n",
        "probs = best_model.predict_proba(X_test)\n",
        "# keep probabilities for the positive outcome only\n",
        "#probs = probs[:, 1]\n",
        "y_test2 = numpy.load('drive/My Drive/y_test.npy')  # osobno, bo inny wymiar\n",
        "\n",
        "auc = roc_auc_score(y_test2, probs)\n",
        "print('AUC: %.3f' % auc)\n",
        "\n",
        "fpr, tpr, thresholds = roc_curve(y_test2, probs)\n",
        "# plot no skill\n",
        "pyplot.plot([0, 1], [0, 1], linestyle='--')\n",
        "# plot the roc curve for the model\n",
        "pyplot.plot(fpr, tpr, marker='.')\n",
        "# show the plot\n",
        "plt.title('ROC curve for test set')\n",
        "pyplot.show()"
      ],
      "execution_count": 8,
      "outputs": [
        {
          "output_type": "stream",
          "text": [
            "AUC: 0.709\n"
          ],
          "name": "stdout"
        },
        {
          "output_type": "display_data",
          "data": {
            "image/png": "[encoded data removed]",
            "text/plain": [
              "<matplotlib.figure.Figure at 0x7f2ea14c8588>"
            ]
          },
          "metadata": {
            "tags": []
          }
        }
      ]
    },
    {
      "metadata": {
        "id": "aOXKJUC-bjnb",
        "colab_type": "code",
        "colab": {}
      },
      "cell_type": "code",
      "source": [
        ""
      ],
      "execution_count": 0,
      "outputs": []
    }
  ]
}