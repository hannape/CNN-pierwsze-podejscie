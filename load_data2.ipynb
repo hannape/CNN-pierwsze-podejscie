{
  "nbformat": 4,
  "nbformat_minor": 0,
  "metadata": {
    "colab": {
      "name": "load_data2.ipynb",
      "version": "0.3.2",
      "provenance": [],
      "collapsed_sections": [],
      "include_colab_link": true
    },
    "kernelspec": {
      "name": "python3",
      "display_name": "Python 3"
    },
    "accelerator": "GPU"
  },
  "cells": [
    {
      "cell_type": "markdown",
      "metadata": {
        "id": "view-in-github",
        "colab_type": "text"
      },
      "source": [
        "<a href=\"https://colab.research.google.com/github/hannape/CNN-pierwsze-podejscie/blob/master/load_data2.ipynb\" target=\"_parent\"><img src=\"https://colab.research.google.com/assets/colab-badge.svg\" alt=\"Open In Colab\"/></a>"
      ]
    },
    {
      "metadata": {
        "id": "CP_c_msRoVUG",
        "colab_type": "text"
      },
      "cell_type": "markdown",
      "source": [
        "**Próbujem od początku:**\n",
        "1. wczytujemy nagrania 1-s z google disca\n",
        "2. robimy spektro/mel spektrum próbki\n",
        "3. czy trzeba gdzies te spektrogramy w formie obrazków zapisac czy od razu można ładować wartości do jakiejś struktury/tablicy?\n",
        "\n",
        "\n"
      ]
    },
    {
      "metadata": {
        "id": "BK19q7-XoRwX",
        "colab_type": "code",
        "colab": {}
      },
      "cell_type": "code",
      "source": [
        "from google.colab import drive\n",
        "drive.mount('/content/drive')"
      ],
      "execution_count": 0,
      "outputs": []
    },
    {
      "metadata": {
        "id": "j0WDezKfoz81",
        "colab_type": "code",
        "colab": {}
      },
      "cell_type": "code",
      "source": [
        "!pip install librosa\n",
        "import librosa\n",
        "import numpy as np\n",
        "import pandas as pd\n",
        "import matplotlib.pyplot as plt\n",
        "import librosa.display\n",
        "from keras.preprocessing.image import ImageDataGenerator\n",
        "import glob\n",
        "import os\n",
        "import random"
      ],
      "execution_count": 0,
      "outputs": []
    },
    {
      "metadata": {
        "id": "IxbnWvWVpXaR",
        "colab_type": "code",
        "colab": {}
      },
      "cell_type": "code",
      "source": [
        " # Tworzenie macierzy treningowej / testowej z wavów na Google dysku, wrzucenie melspektrogramów do jednej tablicy. \n",
        "\n",
        "n_mels = 60\n",
        "sample_rate = 44100\n",
        "\n",
        "main_file_path =   \"drive/My Drive/nagrania_probne/*/\"  # główny folder z subfolderami \"drive/My Drive/nagrania_probne/Test2016/*/\"\n",
        "nagranie = glob.glob(main_file_path)\n",
        "print(nagranie)\n",
        "\n",
        "for j in range (8,9):  # np.size(nagranie)\n",
        "\n",
        "  print(nagranie[j])\n",
        "  file_path = nagranie[j]+ \"*.wav\"                     #\"drive/My Drive/nagrania_probne/1swierszcze_nakladki_BUK4_20160925_204604_1s/\"\n",
        "  print(file_path)\n",
        "  n_files = glob.glob(file_path)    #'drive/My Drive/nagrania_probne/1swierszcze_nakladki_BUK4_20160925_204604_67.wav'\n",
        "  sizes = [len(k) for k in n_files]\n",
        "  name_cut = max(sizes)\n",
        "  print(name_cut)\n",
        "  \n",
        "  file_path = sorted(glob.glob(file_path), key=lambda name: int(name[name_cut-8:-4]))    ##'drive/My Drive/nagrania_probne/1swierszcze_nakladki_BUK4_20160925_204604_67.wav'\n",
        "  print(file_path)\n",
        "\n",
        "  col, rows = 87, 60;\n",
        "  n_train = 500 # np.size(file_path) #1799\n",
        "  matrix = n_train*[rows*[col*[0]]]\n",
        "\n",
        "  for i in range (0,n_train):\n",
        "    audio = librosa.core.load(file_path[i], sr=44100)[0]\n",
        "    matrix[i] = librosa.feature.melspectrogram(y=audio, sr=44100, n_mels= n_mels, fmin = 4000, fmax=9500)\n",
        "    ##print(np.shape(mel_spec))\n",
        "    \n",
        "  print(np.shape(matrix))\n",
        "  ##plt.imshow(matrix[i], cmap=\"jet\")\n",
        "  nazwa_nagr = nagranie[j][31:-3]\n",
        "  np.save(('drive/My Drive/500_train/'+ nazwa_nagr + '_po500' ),matrix)\n",
        "\n"
      ],
      "execution_count": 0,
      "outputs": []
    },
    {
      "metadata": {
        "id": "EV9HbDSkUrks",
        "colab_type": "code",
        "colab": {}
      },
      "cell_type": "code",
      "source": [
        "# TRAIN. stworzenie jednej macierzy z wszystkimi obrazkami treningowymi, + anotacje\n",
        "\n",
        "file_path_500= \"drive/My Drive/500_train/*\"   # główny folder z subfolderami \"drive/My Drive/nagrania_probne/*/\"\n",
        "fold_train = sorted(glob.glob(file_path_500))\n",
        "print(fold_train)\n",
        "X_train = np.load('drive/My Drive/500_train/1swierszcze_nakladki_BUK4_20160925_204604__po500.npy')\n",
        "\n",
        "file_path_500_label= \"drive/My Drive/labele/labele_train/*\"   # główny folder z subfolderami \"drive/My Drive/nagrania_probne/*/\"\n",
        "fold_label = sorted(glob.glob(file_path_500_label))\n",
        "print(fold_label)\n",
        "y_read = pd.read_csv('drive/My Drive/labele/labele_train/1swierszcze_nakladki_BUK4_20160925_204604_1s.csv')\n",
        "y_train = y_read.hasbird[0:500]\n",
        "\n",
        "for i in range (1,np.size(fold_train)):  #np.size(fold_train)\n",
        "  nazwa_nagr = fold_train[i][25:]\n",
        "  B = np.load('drive/My Drive/500_train/'+ nazwa_nagr)\n",
        "  X_train = np.concatenate((X_train,B))\n",
        "  print(nazwa_nagr)\n",
        "  \n",
        "  nazwa_label = fold_label [i][35:]\n",
        "  print(nazwa_label)\n",
        "  B_df = pd.read_csv('drive/My Drive/labele/labele_train/'+ nazwa_label)\n",
        "  y_train= np.concatenate((y_train,B_df.hasbird[0:500]))\n",
        "\n",
        "print(np.shape(X_train))\n",
        "print(np.size(y_train))"
      ],
      "execution_count": 0,
      "outputs": []
    },
    {
      "metadata": {
        "id": "cASuyqZyHIfu",
        "colab_type": "code",
        "colab": {}
      },
      "cell_type": "code",
      "source": [
        "np.save(('drive/My Drive/X_train_po500'), X_train)\n",
        "np.save(('drive/My Drive/y_train_po500'), y_train)"
      ],
      "execution_count": 0,
      "outputs": []
    },
    {
      "metadata": {
        "id": "w1JbKPTqRpml",
        "colab_type": "code",
        "colab": {}
      },
      "cell_type": "code",
      "source": [
        "# TEST. stworzenie jednej macierzy z wszystkimi obrazkami teestowymi, + anotacje\n",
        "\n",
        "file_path_500= \"drive/My Drive/500_test/Test2016/*\"   # główny folder z subfolderami \"drive/My Drive/nagrania_probne/*/\"\n",
        "fold_train = sorted(glob.glob(file_path_500))\n",
        "print(fold_train)\n",
        "X_test = np.load('drive/My Drive/500_test/Test2016/BUK4_20160922_005604__po500.npy')\n",
        "\n",
        "file_path_500_label= \"drive/My Drive/labele/labele_test/*\"   # główny folder z subfolderami \"drive/My Drive/nagrania_probne/*/\"\n",
        "fold_label = sorted(glob.glob(file_path_500_label))\n",
        "print(fold_label)\n",
        "y_read = pd.read_csv('drive/My Drive/labele/labele_test/BUK4_20160922_005604_1s.csv')\n",
        "y_test = y_read.hasbird[0:500]\n",
        "\n",
        "for i in range (1,np.size(fold_train)):  #np.size(fold_train)\n",
        "  nazwa_nagr = fold_train[i][33:]\n",
        "  B = np.load('drive/My Drive/500_test/Test2016/'+ nazwa_nagr)\n",
        "  X_test = np.concatenate((X_test,B))\n",
        "  print(nazwa_nagr)\n",
        "  \n",
        "  nazwa_label = fold_label [i][34:]\n",
        "  print(nazwa_label)\n",
        "  B_df = pd.read_csv('drive/My Drive/labele/labele_test/'+ nazwa_label)\n",
        "  y_test= np.concatenate((y_test,B_df.hasbird[0:500]))\n",
        "\n",
        "print(np.shape(X_test))\n",
        "print(np.size(y_test))\n",
        "\n",
        "np.save(('drive/My Drive/X_test_po500'), X_test)\n",
        "np.save(('drive/My Drive/y_test_po500'), y_test)"
      ],
      "execution_count": 0,
      "outputs": []
    },
    {
      "metadata": {
        "id": "iDsLCyDWVayc",
        "colab_type": "code",
        "outputId": "468347d7-9167-42d8-8e48-8bd4dad19e50",
        "colab": {
          "base_uri": "https://localhost:8080/",
          "height": 403
        }
      },
      "cell_type": "code",
      "source": [
        "## przykładowy\n",
        "\n",
        "print(np.size(y_train))\n",
        "np.shape(X_train)\n",
        "a = 65 #random.randint(0, 499);\n",
        "plt.imshow(X_train[a], cmap=\"jet\")\n",
        "print(a)\n",
        "y_train[a]"
      ],
      "execution_count": 0,
      "outputs": [
        {
          "output_type": "stream",
          "text": [
            "500\n",
            "65\n"
          ],
          "name": "stdout"
        },
        {
          "output_type": "execute_result",
          "data": {
            "text/plain": [
              "1"
            ]
          },
          "metadata": {
            "tags": []
          },
          "execution_count": 39
        },
        {
          "output_type": "display_data",
          "data": {
            "image/png": "[encoded data removed]",
            "text/plain": [
              "<matplotlib.figure.Figure at 0x7f19e46f0be0>"
            ]
          },
          "metadata": {
            "tags": []
          }
        }
      ]
    }
  ]
}