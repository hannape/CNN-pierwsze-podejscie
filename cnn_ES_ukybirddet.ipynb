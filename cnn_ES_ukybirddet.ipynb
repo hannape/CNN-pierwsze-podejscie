{
  "nbformat": 4,
  "nbformat_minor": 0,
  "metadata": {
    "colab": {
      "name": "cnn_ES_ukybirddet.ipynb",
      "version": "0.3.2",
      "provenance": [],
      "collapsed_sections": [],
      "include_colab_link": true
    },
    "kernelspec": {
      "name": "python3",
      "display_name": "Python 3"
    },
    "accelerator": "GPU"
  },
  "cells": [
    {
      "cell_type": "markdown",
      "metadata": {
        "id": "view-in-github",
        "colab_type": "text"
      },
      "source": [
        "<a href=\"https://colab.research.google.com/github/hannape/CNN-pierwsze-podejscie/blob/master/cnn_ES_ukybirddet.ipynb\" target=\"_parent\"><img src=\"https://colab.research.google.com/assets/colab-badge.svg\" alt=\"Open In Colab\"/></a>"
      ]
    },
    {
      "metadata": {
        "id": "jUs78Pg157U2",
        "colab_type": "code",
        "outputId": "16d52f8e-ef83-4193-9be7-01aa9109e00d",
        "colab": {
          "base_uri": "https://localhost:8080/",
          "height": 450
        }
      },
      "cell_type": "code",
      "source": [
        "# previous version, with hidden code and comments - cnn_scorer_not_working\n",
        "from google.colab import drive\n",
        "drive.mount('/content/drive')\n",
        "from __future__ import print_function\n",
        "\n",
        "import keras\n",
        "import numpy\n",
        "from keras.models import Sequential\n",
        "from keras.layers import Dense, Dropout, Activation, Flatten\n",
        "from keras.layers import Conv2D, MaxPooling2D\n",
        "from keras.wrappers.scikit_learn import KerasClassifier\n",
        "from keras import backend as K\n",
        "from sklearn.model_selection import GridSearchCV\n",
        "from keras.layers import Flatten\n",
        "from keras.layers.convolutional import Conv2D\n",
        "from keras.layers.convolutional import MaxPooling2D\n",
        "from keras.utils import np_utils\n",
        "from sklearn.metrics import roc_curve\n",
        "from sklearn.metrics import roc_auc_score\n",
        "from matplotlib import pyplot\n",
        "from sklearn.utils import class_weight\n",
        "from sklearn.metrics import  make_scorer\n",
        "from sklearn.metrics import log_loss\n",
        "K.set_image_dim_ordering('th')\n",
        "import numpy as np\n",
        "from sklearn import preprocessing\n",
        "import glob\n",
        "import os\n",
        "import random\n",
        "import functools\n",
        "import pandas as pd\n",
        "from sklearn.model_selection import train_test_split\n",
        "import matplotlib.pyplot as plt\n",
        "\n",
        "from numpy.random import seed\n",
        "seed(667)\n",
        "from tensorflow import set_random_seed\n",
        "set_random_seed(667)\n",
        "import random\n",
        "random.seed()\n",
        "\n",
        "X_train = numpy.load('drive/My Drive/X_train.npy')\n",
        "y_train = numpy.load('drive/My Drive/y_train.npy')\n",
        "X_test = numpy.load('drive/My Drive/X_test.npy')\n",
        "y_test = numpy.load('drive/My Drive/y_test.npy')\n",
        "X_train, X_val, y_train, y_val = train_test_split(X_train, y_train, test_size=0.2, random_state=667)\n",
        "plt.imshow(X_val[2], cmap=\"jet\")\n",
        "print(np.shape(X_val[2]))\n",
        "\n",
        "\n",
        "X_train = X_train.reshape(X_train.shape[0], 1, 60, 87).astype('float32')\n",
        "X_val = X_val.reshape(X_val.shape[0], 1, 60, 87).astype('float32')\n",
        "X_test = X_test.reshape(X_test.shape[0], 1, 60, 87).astype('float32')\n",
        "input_shape = (1, 60, 87)\n",
        "#X_train = X_train.reshape(X_train.shape[0], 60, 87, 1).astype('float32')\n",
        "#X_val = X_val.reshape(X_val.shape[0], 60, 87, 1).astype('float32')\n",
        "#X_test = X_test.reshape(X_test.shape[0], 60, 87, 1).astype('float32')\n",
        "#input_shape = (60, 87, 1)\n",
        "\n",
        "#plt.imshow(X_val[67], cmap=\"jet\")\n",
        "print(y_val[2])\n",
        "print(np.shape(X_val[2]))\n",
        "\n",
        "# convert class vectors to binary class matrices\n",
        "#y_train = keras.utils.to_categorical(y_train, num_classes)\n",
        "#y_test = keras.utils.to_categorical(y_test, num_classes)\n",
        "print (X_train.shape, y_train.shape)\n",
        "print (X_test.shape, y_test.shape)\n"
      ],
      "execution_count": 0,
      "outputs": [
        {
          "output_type": "stream",
          "text": [
            "Drive already mounted at /content/drive; to attempt to forcibly remount, call drive.mount(\"/content/drive\", force_remount=True).\n",
            "(60, 87)\n",
            "1\n",
            "(1, 60, 87)\n",
            "(24464, 1, 60, 87) (24464,)\n",
            "(10793, 1, 60, 87) (10793,)\n"
          ],
          "name": "stdout"
        },
        {
          "output_type": "display_data",
          "data": {
            "image/png": "[encoded data removed]",
            "text/plain": [
              "<Figure size 576x396 with 1 Axes>"
            ]
          },
          "metadata": {
            "tags": []
          }
        }
      ]
    },
    {
      "metadata": {
        "id": "VKGfhskBZVkD",
        "colab_type": "code",
        "colab": {}
      },
      "cell_type": "code",
      "source": [
        "c_w = { 0:0.02, 1:0.98}\n",
        "index = ['r%d' % x for x in range(len(y_train))]\n",
        "a = [c_w[class_label] for class_label in y_train]\n",
        "sample_weight_frame = pd.DataFrame(a, index = index)\n",
        "score_params = {\"sample_weight\": sample_weight_frame}\n",
        "#print(sample_weight_frame[0:5])\n"
      ],
      "execution_count": 0,
      "outputs": []
    },
    {
      "metadata": {
        "id": "yFE3UDjTMJ9x",
        "colab_type": "code",
        "colab": {}
      },
      "cell_type": "code",
      "source": [
        "# https://github.com/keras-team/keras/issues/2115\n",
        "\n",
        "### SCORERS\n",
        "import tensorflow as tf\n",
        "import functools\n",
        "from functools import partial, update_wrapper\n",
        "\n",
        "def my_score(y_true, y_pred, sample_weight): \n",
        "  return log_loss(y_true.values, y_pred, sample_weight=sample_weight.loc[y_true.index.values].values.reshape(-1), normalize=True)\n",
        "\n",
        "def wrapped_partial(func, *args, **kwargs):\n",
        "\tpartial_func = partial(func, *args, **kwargs)\n",
        "\tupdate_wrapper(partial_func, func)\n",
        "\treturn partial_func\n",
        "\n",
        "def binary_crossentropy_weigted(y_true, y_pred, class_weights):\n",
        "\ty_pred = K.clip(y_pred, K.epsilon(), 1.0 - K.epsilon())\n",
        "\tloss = K.mean(class_weights*(-y_true * K.log(y_pred) - (1.0 - y_true) * K.log(1.0 - y_pred)),axis=-1)\n",
        "\treturn loss\n",
        "\n",
        "my_scorer = make_scorer(my_score,greater_is_better=False, needs_threshold=False,**score_params)  ## scoring for gridsearchCV\n",
        "custom_loss = wrapped_partial(binary_crossentropy_weigted, class_weights=np.array([0.02, 0.98])) ## scoring for model.compile\n",
        "\n",
        "\n",
        "## AUC METRIC\n",
        "def as_keras_metric(method):\n",
        "    import functools\n",
        "    from keras import backend as K\n",
        "    \n",
        "    @functools.wraps(method)\n",
        "    def wrapper(self, args, **kwargs):\n",
        "        \"\"\" Wrapper for turning tensorflow metrics into keras metrics \"\"\"\n",
        "        value, update_op = method(self, args, **kwargs)\n",
        "        K.get_session().run(tf.local_variables_initializer())\n",
        "        with tf.control_dependencies([update_op]):\n",
        "            value = tf.identity(value)\n",
        "        return value\n",
        "    return wrapper\n",
        "  \n",
        "auc_roc = as_keras_metric(tf.metrics.auc)\n"
      ],
      "execution_count": 0,
      "outputs": []
    },
    {
      "metadata": {
        "id": "5VoHqo92-BG1",
        "colab_type": "text"
      },
      "cell_type": "markdown",
      "source": [
        "**BUILDING THE MODEL**"
      ]
    },
    {
      "metadata": {
        "id": "pDsoy0g8VlB5",
        "colab_type": "code",
        "colab": {}
      },
      "cell_type": "code",
      "source": [
        "def make_model_modified(): #(dense_layer_sizes,filters, kernel_size,pool_size,lr, drop_out):\n",
        "  \n",
        "    dense_layer_sizes=128\n",
        "    filters=10\n",
        "    kernel_size=(3,3) #(3,3)\n",
        "    pool_size= (2,2) \n",
        "    lr=0.0001 \n",
        "    drop_out = 0.5\n",
        "        \n",
        "    model = Sequential()\n",
        "    model.add(Conv2D(filters, kernel_size,input_shape=input_shape, activation='relu'))\n",
        "   # model.add(Conv2D(16, (3, 3), input_shape=input_shape ))\n",
        "\n",
        "    model.add(MaxPooling2D(pool_size=pool_size))\n",
        "    model.add(Conv2D(filters, kernel_size, activation='relu'))\n",
        "    model.add(MaxPooling2D(pool_size=pool_size))\n",
        "    model.add(Conv2D(filters, kernel_size, activation='relu'))\n",
        "    model.add(MaxPooling2D(pool_size=pool_size))\n",
        "    \n",
        "    \n",
        "    model.add(Flatten())\n",
        "    model.add(Dense(dense_layer_sizes, activation='relu'))\n",
        "    model.add(Dropout(drop_out))\n",
        "    model.add(Dense(32, activation='relu'))\n",
        "    model.add(Dropout(drop_out))\n",
        "    model.add(Dense(1, activation='sigmoid'))\n",
        "    \n",
        "    model.compile(loss=custom_loss,#'binary_crossentropy',#loss_2_args(y_true, y_pred)'',#loss='binary_crossentropy'\n",
        "                  # co tu powinno wejść? o samo co do scoring w GridSearchCv? chyba nie: https://stackoverflow.com/questions/40572743/scikit-learn-grid-search-own-scoring-object-syntax\n",
        "                  # my_score2(sample_weight = sample_weight_frame), <------------------- nie umiem zrobić by działał tutaj. Która funkcja? my_score czy my_scorer ?\n",
        "                  # my_score2(sample_weight_frame) ---->  https://stackoverflow.com/questions/46858016/keras-custom-loss-function-to-pass-arguments-other-than-y-true-and-y-pred\n",
        "                  # my_loss ---------------------------->też nie chodzi a chyba powinien, coś z formatem nie tak.  ERROR: 'Tensor' object has no attribute 'values'\n",
        "                  # inne źródło: https://github.com/keras-team/keras/issues/2115\n",
        "                  optimizer='adam',#keras.optimizers.Adam(lr),#'adam',\n",
        "                  metrics=['accuracy',auc_roc])\n",
        "\n",
        "    return model"
      ],
      "execution_count": 0,
      "outputs": []
    },
    {
      "metadata": {
        "id": "9_eTsmytevw4",
        "colab_type": "text"
      },
      "cell_type": "markdown",
      "source": [
        "**UKKYBIRDDET MODEL**\n"
      ]
    },
    {
      "metadata": {
        "id": "rOiizOoMetzF",
        "colab_type": "code",
        "colab": {}
      },
      "cell_type": "code",
      "source": [
        "#input_shape = (60, 87, 1)\n",
        "from keras.layers import BatchNormalization, LeakyReLU\n",
        "from keras.regularizers import l2\n",
        "\n",
        "def make_model_ukybirddet():\n",
        "    model = Sequential()\n",
        "    # augmentation generator\n",
        "    # code from baseline : \"augment:Rotation|augment:Shift(low=-1,high=1,axis=3)\"\n",
        "    # keras augmentation:\n",
        "    #preprocessing_function\n",
        "\n",
        "    # convolution layers\n",
        "    model.add(Conv2D(16, (3, 3), padding='valid', input_shape= input_shape ))\n",
        "    model.add(BatchNormalization())  # explore order of Batchnorm and activation\n",
        "    model.add(LeakyReLU(alpha=.001))\n",
        "    model.add(MaxPooling2D(pool_size=(3, 3)))  # experiment with using smaller pooling along frequency axis\n",
        "    model.add(Conv2D(16, (3, 3), padding='valid'))\n",
        "    model.add(BatchNormalization())\n",
        "    model.add(LeakyReLU(alpha=.001))\n",
        "    model.add(MaxPooling2D(pool_size=(3, 3)))\n",
        "    model.add(Conv2D(16, (3, 3), padding='valid'))\n",
        "    model.add(BatchNormalization())\n",
        "    model.add(LeakyReLU(alpha=.001))\n",
        "    model.add(MaxPooling2D(pool_size=(3, 1)))\n",
        "    #model.add(Conv2D(16, (3, 3), padding='valid', kernel_regularizer=l2(0.01)))  # drfault 0.01. Try 0.001 and 0.001\n",
        "    #model.add(BatchNormalization())\n",
        "    #model.add(LeakyReLU(alpha=.001))\n",
        "    #model.add(MaxPooling2D(pool_size=(3, 1)))\n",
        "\n",
        "    # dense layers\n",
        "    model.add(Flatten())\n",
        "    model.add(Dropout(0.5))\n",
        "    model.add(Dense(256))\n",
        "    model.add(BatchNormalization())\n",
        "    model.add(LeakyReLU(alpha=.001))\n",
        "    model.add(Dropout(0.5))\n",
        "    model.add(Dense(32))\n",
        "    model.add(BatchNormalization())\n",
        "    model.add(LeakyReLU(alpha=.001))  # leaky relu value is very small experiment with bigger ones\n",
        "    model.add(Dropout(0.5))  # experiment with removing this dropout\n",
        "    model.add(Dense(1, activation='sigmoid'))\n",
        "    \n",
        "    adam = keras.optimizers.Adam(lr=0.001, beta_1=0.9, beta_2=0.999, epsilon=None, decay=0.0)\n",
        "    model.compile(optimizer=adam, loss='binary_crossentropy', metrics=['acc'])\n",
        "\n",
        "    # prepare callback\n",
        "    #histories = my_callbacks.Histories()\n",
        "    \n",
        "    model.summary()  \n",
        "    \n",
        "    return model\n",
        "  \n"
      ],
      "execution_count": 0,
      "outputs": []
    },
    {
      "metadata": {
        "id": "59IhKe5b95g-",
        "colab_type": "text"
      },
      "cell_type": "markdown",
      "source": [
        "**GRID SEARCH** // none here\n",
        "\n"
      ]
    },
    {
      "metadata": {
        "id": "7YQJvxfSN1Iy",
        "colab_type": "code",
        "cellView": "form",
        "colab": {}
      },
      "cell_type": "code",
      "source": [
        "#@title\n",
        "my_classifier = KerasClassifier(make_model_modified)\n",
        "validator = GridSearchCV(my_classifier,\n",
        "                         param_grid={'dense_layer_sizes': [128],\n",
        "                                     # epochs is avail for tuning even when not\n",
        "                                     # an argument to model building function\n",
        "                                     'epochs': [100], #[10,20,30],\n",
        "                                     'filters': [10],\n",
        "                                     'kernel_size': [(3,3)],\n",
        "                                     'pool_size': [(2,2)],\n",
        "                                     # 'class_weight': [{ 0:0.02, 1:0.98}],  <------------------------------- może w ten sposób? Ale t też tylko w grid searchu\n",
        "                                     'batch_size': [32], \n",
        "                                     'drop_out':[0.5],#[0.2,0.5],\n",
        "                                     'lr': [0.001]}, #[0.01,0.001,0.0001]},\n",
        "                         scoring=my_scorer, n_jobs=1, refit=True, cv = 3)  ## SCORING ZMIENIONY na my_scorer (inne, np: 'roc_auc')\n",
        "\n",
        "##https://stackoverflow.com/questions/49581104/sklearn-gridsearchcv-not-using-sample-weight-in-score-function"
      ],
      "execution_count": 0,
      "outputs": []
    },
    {
      "metadata": {
        "id": "4-qM-uurO5TP",
        "colab_type": "text"
      },
      "cell_type": "markdown",
      "source": [
        "**CALLBACKS**"
      ]
    },
    {
      "metadata": {
        "id": "mLm9knT-1OjH",
        "colab_type": "code",
        "cellView": "form",
        "colab": {}
      },
      "cell_type": "code",
      "source": [
        "#@title\n",
        "from IPython.display import clear_output\n",
        "class PlotLosses(keras.callbacks.Callback):\n",
        "    def on_train_begin(self, logs={}):\n",
        "        self.i = 0\n",
        "        self.x = []\n",
        "        self.losses = []\n",
        "        self.losses_val = []\n",
        "        self.auc = []\n",
        "        self.auc_val = []\n",
        "        self.acc = []\n",
        "        self.acc_val = []\n",
        "        \n",
        "        self.fig = plt.figure()        \n",
        "        self.logs = []\n",
        "        \n",
        "        \n",
        "    def on_epoch_begin(self, epoch, logs={}):\n",
        "\t\t    clear_output(wait=True);\n",
        "\n",
        "    def on_epoch_end(self, epoch, logs={}):\n",
        "        \n",
        "        self.logs.append(logs)\n",
        "        self.x.append(self.i)\n",
        "        self.losses.append(logs.get('loss'))\n",
        "        self.losses_val.append(logs.get('val_loss'))\n",
        "        self.auc.append(logs.get('auc'))\n",
        "        self.i += 1\n",
        "        plt.subplot(1, 2, 1)\n",
        "        plt.plot(self.x, self.losses, label=\"loss\")\n",
        "        plt.plot(self.x, self.losses_val, label=\"val_loss\")\n",
        "        plt.legend()\n",
        "        \n",
        "        plt.subplot(1, 2, 2)\n",
        "        plt.plot(self.x, self.auc, label=\"auc\")\n",
        "        #plt.plot(self.x, self.auc_val, label=\"val_auc\")\n",
        "        print(self.x, self.auc)\n",
        "        print(self.x, self.auc_val)\n",
        "        plt.legend()\n",
        "        \n",
        "        #plt.subplot(1, 3, 3)  # nie działa :()\n",
        "        #plt.plot(self.x, self.acc, label=\"acc\")\n",
        "        #plt.plot(self.x, self.acc_val, label=\"val_acc\")\n",
        "        #plt.legend()\n",
        "        \n",
        "        plt.show()\n",
        "      \n",
        "        \n",
        "plot_losses = PlotLosses()\n",
        "\n",
        "class Histories(keras.callbacks.Callback):\n",
        "\tdef on_train_begin(self, logs={}):\n",
        "\t\tself.aucs = []\n",
        "\t\tself.losses = []\n",
        "\n",
        "\tdef on_train_end(self, logs={}):\n",
        "\t\treturn\n",
        "\n",
        "\tdef on_epoch_begin(self, epoch, logs={}):\n",
        "\t\treturn\n",
        "\n",
        "\tdef on_epoch_end(self, epoch, logs={}):\n",
        "\t\tself.losses.append(logs.get('loss'))\n",
        "\t\ty_pred = self.model.predict(self.validation_data[0])\n",
        "\t\tself.aucs.append(roc_auc_score(self.validation_data[1], y_pred))\n",
        "\t\ta = (roc_auc_score(self.validation_data[1], y_pred))\n",
        "\t\t#print(\" AUC_on_val: %f \" % a)\n",
        "\t\treturn\n",
        "\n",
        "\tdef on_batch_begin(self, batch, logs={}):\n",
        "\t\treturn\n",
        "\n",
        "\tdef on_batch_end(self, batch, logs={}):    return\n",
        "  \n",
        "histories = Histories()"
      ],
      "execution_count": 0,
      "outputs": []
    },
    {
      "metadata": {
        "id": "qC9TynBWTR0E",
        "colab_type": "code",
        "outputId": "0a512c26-e9d4-448b-9203-f1aa3937b5ac",
        "colab": {
          "base_uri": "https://localhost:8080/",
          "height": 1972
        }
      },
      "cell_type": "code",
      "source": [
        "# dense_layer_sizes,filters, kernel_size,pool_size,lr, drop_out)\n",
        "#my_classifier2 = KerasClassifier(make_model_modified(128,10,(3,3),(2,2),0.001,0.5))\n",
        "# my_model = make_model_modified()\n",
        "my_model = make_model_ukybirddet()\n",
        "\n",
        "############\n",
        "from keras.callbacks import EarlyStopping\n",
        "from keras.callbacks import LearningRateScheduler, CSVLogger\n",
        "import math\n",
        "\n",
        "def step_decay(epoch):\n",
        "\tinitial_lrate = 0.001\n",
        "\tdrop = 0.1\n",
        "\tepochs_drop = 30.0\n",
        "\tlrate = initial_lrate * math.pow(drop, math.floor((1+epoch)/epochs_drop))\n",
        "\t#print(lrate)\n",
        "\treturn lrate\n",
        "\n",
        "keras.callbacks.CSVLogger('', separator=',', append=False)\n",
        "\n",
        "lrate = LearningRateScheduler(step_decay)\n",
        "csv_logger = CSVLogger('drive/My Drive/przebiegi/training_150e_001_01_co30_3.log')\n",
        "#es = EarlyStopping(monitor='val_loss', min_delta=0.001, patience=30, mode='max', baseline=None, restore_best_weights=True)\n",
        "\n",
        "\n",
        "y_frame = pd.DataFrame(y_train, index=index)\n",
        "grid_result = my_model.fit(X_train, y_frame, batch_size = 32, epochs=30,validation_data=(X_val, y_val), verbose = 2) #, class_weight = c_w)\n",
        "#grid_result = my_model.fit(X_train, y_frame, batch_size = 32, callbacks=[plot_losses, csv_logger, lrate, histories], epochs=150,validation_data=(X_val, y_val), verbose = 2) #, class_weight = c_w)\n",
        "# [es, plot_losses, lrate, csv_logger, histories]\n",
        "my_model.save('flmdl.h5')\n",
        "print('Training done. The results are in : ')\n",
        "\n"
      ],
      "execution_count": 0,
      "outputs": [
        {
          "output_type": "stream",
          "text": [
            "_________________________________________________________________\n",
            "Layer (type)                 Output Shape              Param #   \n",
            "=================================================================\n",
            "conv2d_48 (Conv2D)           (None, 16, 58, 85)        160       \n",
            "_________________________________________________________________\n",
            "batch_normalization_46 (Batc (None, 16, 58, 85)        340       \n",
            "_________________________________________________________________\n",
            "leaky_re_lu_45 (LeakyReLU)   (None, 16, 58, 85)        0         \n",
            "_________________________________________________________________\n",
            "max_pooling2d_34 (MaxPooling (None, 16, 19, 28)        0         \n",
            "_________________________________________________________________\n",
            "conv2d_49 (Conv2D)           (None, 16, 17, 26)        2320      \n",
            "_________________________________________________________________\n",
            "batch_normalization_47 (Batc (None, 16, 17, 26)        104       \n",
            "_________________________________________________________________\n",
            "leaky_re_lu_46 (LeakyReLU)   (None, 16, 17, 26)        0         \n",
            "_________________________________________________________________\n",
            "max_pooling2d_35 (MaxPooling (None, 16, 5, 8)          0         \n",
            "_________________________________________________________________\n",
            "conv2d_50 (Conv2D)           (None, 16, 3, 6)          2320      \n",
            "_________________________________________________________________\n",
            "batch_normalization_48 (Batc (None, 16, 3, 6)          24        \n",
            "_________________________________________________________________\n",
            "leaky_re_lu_47 (LeakyReLU)   (None, 16, 3, 6)          0         \n",
            "_________________________________________________________________\n",
            "max_pooling2d_36 (MaxPooling (None, 16, 1, 6)          0         \n",
            "_________________________________________________________________\n",
            "flatten_9 (Flatten)          (None, 96)                0         \n",
            "_________________________________________________________________\n",
            "dropout_24 (Dropout)         (None, 96)                0         \n",
            "_________________________________________________________________\n",
            "dense_25 (Dense)             (None, 256)               24832     \n",
            "_________________________________________________________________\n",
            "batch_normalization_49 (Batc (None, 256)               1024      \n",
            "_________________________________________________________________\n",
            "leaky_re_lu_48 (LeakyReLU)   (None, 256)               0         \n",
            "_________________________________________________________________\n",
            "dropout_25 (Dropout)         (None, 256)               0         \n",
            "_________________________________________________________________\n",
            "dense_26 (Dense)             (None, 32)                8224      \n",
            "_________________________________________________________________\n",
            "batch_normalization_50 (Batc (None, 32)                128       \n",
            "_________________________________________________________________\n",
            "leaky_re_lu_49 (LeakyReLU)   (None, 32)                0         \n",
            "_________________________________________________________________\n",
            "dropout_26 (Dropout)         (None, 32)                0         \n",
            "_________________________________________________________________\n",
            "dense_27 (Dense)             (None, 1)                 33        \n",
            "=================================================================\n",
            "Total params: 39,509\n",
            "Trainable params: 38,699\n",
            "Non-trainable params: 810\n",
            "_________________________________________________________________\n",
            "Train on 24464 samples, validate on 6117 samples\n",
            "Epoch 1/30\n",
            " - 19s - loss: 0.2277 - acc: 0.9302 - val_loss: 0.1055 - val_acc: 0.9792\n",
            "Epoch 2/30\n",
            " - 16s - loss: 0.1046 - acc: 0.9821 - val_loss: 0.1034 - val_acc: 0.9792\n",
            "Epoch 3/30\n",
            " - 16s - loss: 0.1008 - acc: 0.9823 - val_loss: 0.1020 - val_acc: 0.9792\n",
            "Epoch 4/30\n",
            " - 16s - loss: 0.0990 - acc: 0.9823 - val_loss: 0.1013 - val_acc: 0.9792\n",
            "Epoch 5/30\n",
            " - 16s - loss: 0.0969 - acc: 0.9823 - val_loss: 0.1032 - val_acc: 0.9792\n",
            "Epoch 6/30\n",
            " - 16s - loss: 0.0957 - acc: 0.9823 - val_loss: 0.1006 - val_acc: 0.9792\n",
            "Epoch 7/30\n",
            " - 15s - loss: 0.0947 - acc: 0.9823 - val_loss: 0.1013 - val_acc: 0.9792\n",
            "Epoch 8/30\n",
            " - 15s - loss: 0.0921 - acc: 0.9823 - val_loss: 0.1002 - val_acc: 0.9792\n",
            "Epoch 9/30\n",
            " - 15s - loss: 0.0926 - acc: 0.9823 - val_loss: 0.1007 - val_acc: 0.9792\n",
            "Epoch 10/30\n",
            " - 15s - loss: 0.0942 - acc: 0.9823 - val_loss: 0.1003 - val_acc: 0.9792\n",
            "Epoch 11/30\n",
            " - 15s - loss: 0.0920 - acc: 0.9823 - val_loss: 0.1002 - val_acc: 0.9792\n",
            "Epoch 12/30\n",
            " - 15s - loss: 0.0929 - acc: 0.9823 - val_loss: 0.1008 - val_acc: 0.9792\n",
            "Epoch 13/30\n",
            " - 15s - loss: 0.0918 - acc: 0.9823 - val_loss: 0.1009 - val_acc: 0.9792\n",
            "Epoch 14/30\n",
            " - 15s - loss: 0.0909 - acc: 0.9823 - val_loss: 0.1003 - val_acc: 0.9792\n",
            "Epoch 15/30\n",
            " - 15s - loss: 0.0915 - acc: 0.9823 - val_loss: 0.1005 - val_acc: 0.9792\n",
            "Epoch 16/30\n",
            " - 15s - loss: 0.0918 - acc: 0.9823 - val_loss: 0.1003 - val_acc: 0.9792\n",
            "Epoch 17/30\n",
            " - 15s - loss: 0.0901 - acc: 0.9823 - val_loss: 0.1003 - val_acc: 0.9792\n",
            "Epoch 18/30\n",
            " - 15s - loss: 0.0912 - acc: 0.9823 - val_loss: 0.1004 - val_acc: 0.9792\n",
            "Epoch 19/30\n",
            " - 15s - loss: 0.0903 - acc: 0.9823 - val_loss: 0.1003 - val_acc: 0.9792\n",
            "Epoch 20/30\n",
            " - 15s - loss: 0.0898 - acc: 0.9823 - val_loss: 0.1004 - val_acc: 0.9792\n",
            "Epoch 21/30\n",
            " - 15s - loss: 0.0906 - acc: 0.9823 - val_loss: 0.1003 - val_acc: 0.9792\n",
            "Epoch 22/30\n",
            " - 15s - loss: 0.0900 - acc: 0.9823 - val_loss: 0.1001 - val_acc: 0.9792\n",
            "Epoch 23/30\n",
            " - 15s - loss: 0.0905 - acc: 0.9823 - val_loss: 0.1005 - val_acc: 0.9792\n",
            "Epoch 24/30\n",
            " - 15s - loss: 0.0902 - acc: 0.9823 - val_loss: 0.1001 - val_acc: 0.9792\n",
            "Epoch 25/30\n",
            " - 16s - loss: 0.0898 - acc: 0.9823 - val_loss: 0.1005 - val_acc: 0.9792\n",
            "Epoch 26/30\n",
            " - 15s - loss: 0.0892 - acc: 0.9823 - val_loss: 0.1002 - val_acc: 0.9792\n",
            "Epoch 27/30\n",
            " - 15s - loss: 0.0888 - acc: 0.9823 - val_loss: 0.1005 - val_acc: 0.9792\n",
            "Epoch 28/30\n",
            " - 15s - loss: 0.0893 - acc: 0.9823 - val_loss: 0.1005 - val_acc: 0.9792\n",
            "Epoch 29/30\n",
            " - 15s - loss: 0.0904 - acc: 0.9823 - val_loss: 0.1003 - val_acc: 0.9792\n",
            "Epoch 30/30\n",
            " - 15s - loss: 0.0895 - acc: 0.9823 - val_loss: 0.1002 - val_acc: 0.9792\n",
            "Training done. The results are in : \n"
          ],
          "name": "stdout"
        }
      ]
    },
    {
      "metadata": {
        "id": "57N6Blx9n9WN",
        "colab_type": "code",
        "outputId": "fc73bb87-59d9-4405-9d48-8b6591d409a6",
        "colab": {
          "base_uri": "https://localhost:8080/",
          "height": 51
        }
      },
      "cell_type": "code",
      "source": [
        "my_model.save('flmdl.h5')\n",
        "print('Training done. The results are in : ')\n",
        "c = grid_result.history.keys()\n",
        "print(grid_result.history.keys())\n",
        "#grid_result = validator.fit(X_train, y_frame, callbacks=[es, plot_losses]) #, class_weight = c_w)\n",
        "\n",
        "############\n"
      ],
      "execution_count": 0,
      "outputs": [
        {
          "output_type": "stream",
          "text": [
            "Training done. The results are in : \n",
            "dict_keys(['val_loss', 'val_acc', 'loss', 'acc'])\n"
          ],
          "name": "stdout"
        }
      ]
    },
    {
      "metadata": {
        "id": "GLYb1HeyHja0",
        "colab_type": "code",
        "outputId": "8a98f09c-b5da-4ac4-9cd8-9ea39efcffcf",
        "colab": {
          "base_uri": "https://localhost:8080/",
          "height": 35
        }
      },
      "cell_type": "code",
      "source": [
        "c = grid_result.history.keys()\n",
        "print(grid_result.history.keys())"
      ],
      "execution_count": 0,
      "outputs": [
        {
          "output_type": "stream",
          "text": [
            "dict_keys(['val_loss', 'val_acc', 'val_auc', 'loss', 'acc', 'auc', 'lr'])\n"
          ],
          "name": "stdout"
        }
      ]
    },
    {
      "metadata": {
        "id": "TFlqEsMBijUA",
        "colab_type": "code",
        "outputId": "ad91c17a-8616-43d6-e421-d09b223eda11",
        "colab": {
          "base_uri": "https://localhost:8080/",
          "height": 427
        }
      },
      "cell_type": "code",
      "source": [
        "model = my_model\n",
        "hist = grid_result\n",
        "# Final evaluation of the model\n",
        "scores_val = model.evaluate(X_val, y_val, verbose=0)\n",
        "print(\"CNN Error for val set: %.2f%%\" % (100-scores_val[1]*100))\n",
        "scores_test = model.evaluate(X_test, y_test, verbose=0)\n",
        "print(\"CNN Error for test set: %.2f%%\" % (100-scores_test[1]*100))\n",
        "\n",
        "# summarize history for accuracy\n",
        "plt.subplot(1, 3, 1)\n",
        "plt.plot(hist.history['acc'])\n",
        "plt.plot(hist.history['val_acc'])\n",
        "plt.title('model accuracy')\n",
        "plt.ylabel('accuracy')\n",
        "plt.xlabel('epoch')\n",
        "plt.legend(['train', 'val'], loc='upper left')\n",
        "plt.subplot(1, 3, 2)\n",
        "\n",
        "# summarize history for loss\n",
        "plt.plot(hist.history['loss'])\n",
        "plt.plot(hist.history['val_loss'])\n",
        "plt.title('model auc function')\n",
        "plt.ylabel('loss')\n",
        "plt.xlabel('epoch')\n",
        "plt.legend(['train', 'val'], loc='upper left')\n",
        "#plt.show()\n",
        "\n",
        "# calculate AUC of final model on a test set\n",
        "probs = model.predict_proba(X_test)\n",
        "# keep probabilities for the positive outcome only\n",
        "#probs = probs[:, 1]\n",
        "y_test2 = numpy.load('drive/My Drive/y_test.npy')  # osobno, bo inny wymiar\n",
        "\n",
        "auc = roc_auc_score(y_test2, probs)\n",
        "print('AUC: %.3f' % auc)\n",
        "\n",
        "fpr, tpr, thresholds = roc_curve(y_test2, probs)\n",
        "# plot no skill\n",
        "plt.subplot(1, 3, 3)\n",
        "pyplot.plot([0, 1], [0, 1], linestyle='--')\n",
        "# plot the roc curve for the model\n",
        "pyplot.plot(fpr, tpr, marker='.')\n",
        "# show the plot\n",
        "plt.title('ROC, test set, AUC: %.3f' % auc)\n",
        "pyplot.show()"
      ],
      "execution_count": 0,
      "outputs": [
        {
          "output_type": "stream",
          "text": [
            "CNN Error for val set: 2.08%\n",
            "CNN Error for test set: 3.61%\n",
            "AUC: 0.557\n"
          ],
          "name": "stdout"
        },
        {
          "output_type": "display_data",
          "data": {
            "image/png": "[encoded data removed]",
            "text/plain": [
              "<Figure size 576x396 with 3 Axes>"
            ]
          },
          "metadata": {
            "tags": []
          }
        }
      ]
    },
    {
      "metadata": {
        "id": "oe-G8vi26sNN",
        "colab_type": "code",
        "cellView": "form",
        "colab": {}
      },
      "cell_type": "code",
      "source": [
        "#@title\n",
        "# calculate AUC of final model on a test set\n",
        "probs = best_model.predict_proba(X_test)\n",
        "# keep probabilities for the positive outcome only\n",
        "#probs = probs[:, 1]\n",
        "y_test2 = numpy.load('drive/My Drive/y_test.npy')  # osobno, bo inny wymiar\n",
        "\n",
        "auc = roc_auc_score(y_test2, probs)\n",
        "print('AUC: %.3f' % auc)\n",
        "\n",
        "fpr, tpr, thresholds = roc_curve(y_test2, probs)\n",
        "# plot no skill\n",
        "pyplot.plot([0, 1], [0, 1], linestyle='--')\n",
        "# plot the roc curve for the model\n",
        "pyplot.plot(fpr, tpr, marker='.')\n",
        "# show the plot\n",
        "plt.title('ROC curve for test set')\n",
        "pyplot.show()\n",
        "\n",
        "with open('drive/My Drive/ES_200e.txt', 'w') as f:\n",
        "  print('Filename:', validator.best_params_, file=f)\n",
        "  print('AUC on test set: %.3f' % auc)\n",
        "  \n",
        "from sklearn.externals import joblib\n",
        "joblib.dump(grid_result.best_estimator_, 'model_200e.pkl')"
      ],
      "execution_count": 0,
      "outputs": []
    },
    {
      "metadata": {
        "id": "7Q9Mkpfv-jpk",
        "colab_type": "code",
        "outputId": "867ff861-a3fc-4b7d-aa0b-c9627e38b6fa",
        "colab": {
          "base_uri": "https://localhost:8080/",
          "height": 364
        }
      },
      "cell_type": "code",
      "source": [
        "pyplot.plot(y_test2[8450:8600], marker='.')\n",
        "pyplot.plot(probs[8450:8600], marker='.')\n"
      ],
      "execution_count": 0,
      "outputs": [
        {
          "output_type": "execute_result",
          "data": {
            "text/plain": [
              "[<matplotlib.lines.Line2D at 0x7ff53fc66e10>]"
            ]
          },
          "metadata": {
            "tags": []
          },
          "execution_count": 60
        },
        {
          "output_type": "display_data",
          "data": {
            "image/png": "[encoded data removed]",
            "text/plain": [
              "<Figure size 576x396 with 1 Axes>"
            ]
          },
          "metadata": {
            "tags": []
          }
        }
      ]
    },
    {
      "metadata": {
        "id": "CdQr0WX6J7qp",
        "colab_type": "code",
        "cellView": "form",
        "colab": {}
      },
      "cell_type": "code",
      "source": [
        "#@title\n",
        "print('The parameters of the best model are: ')\n",
        "print(validator.best_params_)\n",
        "\n",
        "best_model = validator.best_estimator_.model\n",
        "metric_names = best_model.metrics_names\n",
        "metric_values = best_model.evaluate(X_test, y_test)\n",
        "for metric, value in zip(metric_names, metric_values):\n",
        "  print(metric, ': ', value)\n",
        "  \n",
        "means = grid_result.cv_results_['mean_test_score']\n",
        "stds = grid_result.cv_results_['std_test_score']\n",
        "params = grid_result.cv_results_['params']\n",
        "for mean, stdev, param in zip(means, stds, params):\n",
        "  print(\"%f (%f) with: %r\" % (mean, stdev, param))\n",
        "  \n",
        "# calculate AUC of final model on a test set\n",
        "probs = best_model.predict_proba(X_test)\n",
        "# keep probabilities for the positive outcome only\n",
        "#probs = probs[:, 1]\n",
        "y_test2 = numpy.load('drive/My Drive/y_test.npy')  # osobno, bo inny wymiar\n",
        "\n",
        "auc = roc_auc_score(y_test2, probs)\n",
        "print('AUC: %.3f' % auc)\n",
        "\n",
        "fpr, tpr, thresholds = roc_curve(y_test2, probs)\n",
        "# plot no skill\n",
        "pyplot.plot([0, 1], [0, 1], linestyle='--')\n",
        "# plot the roc curve for the model\n",
        "pyplot.plot(fpr, tpr, marker='.')\n",
        "# show the plot\n",
        "plt.title('ROC curve for test set')\n",
        "pyplot.show()\n",
        "\n",
        "with open('drive/My Drive/ES_200e.txt', 'w') as f:\n",
        "  print('Filename:', validator.best_params_, file=f)\n",
        "  print('AUC on test set: %.3f' % auc)\n",
        "  \n",
        "from sklearn.externals import joblib\n",
        "joblib.dump(grid_result.best_estimator_, 'model_200e.pkl')\n"
      ],
      "execution_count": 0,
      "outputs": []
    }
  ]
}