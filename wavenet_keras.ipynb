{
  "nbformat": 4,
  "nbformat_minor": 0,
  "metadata": {
    "colab": {
      "name": "wavenet-keras.ipynb",
      "version": "0.3.2",
      "provenance": [],
      "include_colab_link": true
    },
    "kernelspec": {
      "name": "python3",
      "display_name": "Python 3"
    },
    "accelerator": "GPU"
  },
  "cells": [
    {
      "cell_type": "markdown",
      "metadata": {
        "id": "view-in-github",
        "colab_type": "text"
      },
      "source": [
        "<a href=\"https://colab.research.google.com/github/hannape/CNN-pierwsze-podejscie/blob/master/wavenet_keras.ipynb\" target=\"_parent\"><img src=\"https://colab.research.google.com/assets/colab-badge.svg\" alt=\"Open In Colab\"/></a>"
      ]
    },
    {
      "metadata": {
        "id": "3gvPXkPsXIzd",
        "colab_type": "code",
        "colab": {}
      },
      "cell_type": "code",
      "source": [
        "from google.colab import drive\n",
        "drive.mount('/content/drive')\n",
        "\n",
        "import librosa\n",
        "import matplotlib.pyplot as plt\n",
        "import librosa.display\n",
        "from keras.preprocessing.image import ImageDataGenerator\n",
        "import glob\n",
        "import os\n",
        "import random"
      ],
      "execution_count": 0,
      "outputs": []
    },
    {
      "metadata": {
        "id": "6U-puY2wSZw-",
        "colab_type": "code",
        "colab": {}
      },
      "cell_type": "code",
      "source": [
        "## Keras Implementation of Deepmind's WaveNet for Supervised Learning Tasks, https://github.com/mjpyeon/wavenet-classifier\n",
        "\n",
        "import numpy as np\n",
        "import pandas as pd\n",
        "import sys\n",
        "import tensorflow as tf\n",
        "from keras.layers import Input, Dense, Lambda, Flatten, Reshape, Activation, Dropout, Add, TimeDistributed, Multiply, Conv1D, Conv2D, MaxPooling1D, AveragePooling1D\n",
        "from keras.models import Model, Sequential, load_model\n",
        "from keras import backend as K\n",
        "from keras import metrics\n",
        "from keras import optimizers\n",
        "from keras.callbacks import History, ModelCheckpoint\n",
        "\n",
        "\n",
        "class WaveNetClassifier():\n",
        "  def __init__(self, input_shape, output_shape, kernel_size = 2, dilation_depth = 9, n_filters = 40, task = 'classification', regression_range = None, load=False, load_dir='./'):\n",
        "    \"\"\"\n",
        "    Parameters:\n",
        "      input_shape: (tuple) tuple of input shape. (e.g. If input is 6s raw waveform with sampling rate = 16kHz, (96000,) is the input_shape)\n",
        "      output_shape: (tuple)tuple of output shape. (e.g. If we want classify the signal into 100 classes, (100,) is the output_shape)\n",
        "      kernel_size: (integer) kernel size of convolution operations in residual blocks\n",
        "      dilation_depth: (integer) type total depth of residual blocks\n",
        "      n_filters: (integer) # of filters of convolution operations in residual blocks\n",
        "      task: (string) 'classification' or 'regression'\n",
        "      regression_range: (list or tuple) target range of regression task\n",
        "      load: (bool) load previous WaveNetClassifier or not\n",
        "      load_dir: (string) the directory where the previous model exists\n",
        "    \"\"\"      \n",
        "    # save task info\n",
        "    if task == 'regression':\n",
        "      if regression_range[0] == 0:\n",
        "        self.activation = 'sigmoid'\n",
        "        self.scale_ratio = regression_range[1]\n",
        "      elif regression_range[0] == - regression_range[1]:\n",
        "        self.activation = 'tanh'\n",
        "        self.scale_ratio = regression_range[1]\n",
        "      elif regression_range == None:\n",
        "        self.activation = 'linear'\n",
        "        self.scale_ratio = 1\n",
        "      else:\n",
        "        print('ERROR: wrong regression range')\n",
        "        sys.exit()  \n",
        "    elif task == 'classification':\n",
        "      self.activation = 'softmax'\n",
        "      self.scale_ratio = 1      \n",
        "    else:\n",
        "      print('ERROR: wrong task')\n",
        "      sys.exit()\n",
        "    \n",
        "    # save input info\n",
        "    if len(input_shape) == 1:\n",
        "      self.expand_dims = True\n",
        "    elif len(input_shape) == 2:\n",
        "      self.expand_dims = False\n",
        "    else:\n",
        "      print('ERROR: wrong input shape')\n",
        "      sys.exit()\n",
        "    self.input_shape = input_shape\n",
        "    \n",
        "    # save output info\n",
        "    if len(output_shape) == 1:\n",
        "      self.time_distributed = False\n",
        "    elif len(output_shape) == 2:\n",
        "      self.time_distributed = True\n",
        "    else:\n",
        "      print('ERROR: wrong output shape')\n",
        "      sys.exit()\n",
        "    self.output_shape = output_shape\n",
        "    \n",
        "    # save hyperparameters of WaveNet\n",
        "    self.kernel_size = kernel_size\n",
        "    self.dilation_depth = dilation_depth\n",
        "    self.n_filters = n_filters\n",
        "    self.manual_loss = None\n",
        "\n",
        "    \n",
        "    if load is True:\n",
        "      self.model = load_model(load_dir+\"saved_wavenet_clasifier.h5\", custom_objects={'tf':tf})\n",
        "      self.prev_history = pd.read_csv(load_dir+'wavenet_classifier_training_history.csv')\n",
        "      self.start_idx = len(self.prev_history)\n",
        "      self.history = None\n",
        "    else:\n",
        "      self.model = self.construct_model()\n",
        "      self.start_idx = 0\n",
        "      self.history = None\n",
        "      self.prev_history = None\n",
        "\n",
        "    \n",
        "  def residual_block(self, x, i):\n",
        "    tanh_out = Conv1D(self.n_filters, \n",
        "                      self.kernel_size, \n",
        "                      dilation_rate = self.kernel_size**i, \n",
        "                      padding='causal', \n",
        "                      name='dilated_conv_%d_tanh' % (self.kernel_size ** i), \n",
        "                      activation='tanh'\n",
        "                      )(x)\n",
        "    sigm_out = Conv1D(self.n_filters, \n",
        "                      self.kernel_size, \n",
        "                      dilation_rate = self.kernel_size**i, \n",
        "                      padding='causal', \n",
        "                      name='dilated_conv_%d_sigm' % (self.kernel_size ** i), \n",
        "                      activation='sigmoid'\n",
        "                      )(x)\n",
        "    z = Multiply(name='gated_activation_%d' % (i))([tanh_out, sigm_out])\n",
        "    skip = Conv1D(self.n_filters, 1, name='skip_%d'%(i))(z)\n",
        "    res = Add(name='residual_block_%d' % (i))([skip, x])\n",
        "    return res, skip\n",
        "  \n",
        "  def construct_model(self):    \n",
        "    x = Input(shape=self.input_shape, name='original_input')\n",
        "    if self.expand_dims == True:\n",
        "      x_reshaped = Reshape(self.input_shape + (1,), name='reshaped_input')(x)\n",
        "    else:\n",
        "      x_reshaped = x\n",
        "    skip_connections = []\n",
        "    out = Conv1D(self.n_filters, 2, dilation_rate=1, padding='causal', name='dilated_conv_1')(x_reshaped)\n",
        "    for i in range(1, self.dilation_depth + 1):\n",
        "      out, skip = self.residual_block(out,i)\n",
        "      skip_connections.append(skip)\n",
        "    out = Add(name='skip_connections')(skip_connections)\n",
        "    out = Activation('relu')(out)\n",
        "    out = Conv1D(self.n_filters, 80, strides = 1, padding='same', name='conv_5ms', activation = 'relu')(out)\n",
        "    out = AveragePooling1D(80, padding='same', name='downsample_to_200Hz')(out)\n",
        "    if self.time_distributed:\n",
        "      target_kernel_size = (int) (self.input_shape[0] / 80 / self.output_shape[0]) # prev_len / x = target_len => x = prev_len / target_len\n",
        "      out = Conv1D(self.n_filters, target_kernel_size, padding='same', name = 'conv_fit_to_target', activation='relu')(out)\n",
        "      out = Conv1D(self.output_shape[1], target_kernel_size, padding='same', name='conv_final')(out)\n",
        "      out = AveragePooling1D(target_kernel_size, padding='same')(out)\n",
        "      out = TimeDistributed(Activation(self.activation))(out)\n",
        "    else:\n",
        "      out = Conv1D(self.n_filters, 100, padding='same', activation='relu', name='conv_500ms')(out)\n",
        "      out = Conv1D(self.output_shape[0], 100, padding='same', activation='relu', name='conv_500ms_target_shape')(out)\n",
        "      out = AveragePooling1D(100, padding='same',name = 'downsample_to_2Hz')(out)\n",
        "      out = Conv1D(self.output_shape[0], (int) (self.input_shape[0] / 8000), padding='same', name='final_conv')(out)\n",
        "      out = AveragePooling1D((int) (self.input_shape[0] / 8000), name='final_pooling')(out)\n",
        "      out = Reshape(self.output_shape)(out)\n",
        "      out = Activation(self.activation)(out)\n",
        "    if self.scale_ratio != 1:\n",
        "      out = Lambda(lambda x: x * self.scale_ratio, name='output_reshaped')(out)\n",
        "    model = Model(x, out)  \n",
        "    model.summary()\n",
        "    return model\n",
        "    \n",
        "  def get_model(self):\n",
        "    return self.model\n",
        "    \n",
        "  def add_loss(self, loss):\n",
        "    self.manual_loss = loss\n",
        "  \n",
        "  def fit(self, X, Y, validation_data = None, epochs = 100, batch_size = 32, optimizer='adam', save=False, save_dir='./'):\n",
        "    # set default losses if not defined\n",
        "    #if self.manual_loss is not None:\n",
        "    #  loss = self.manual_loss\n",
        "    #  metrics = None\n",
        "    #else:\n",
        "    #  if self.task == 'classification':\n",
        "    loss = 'binary_crossentropy' #'categorical_crossentropy'\n",
        "    metrics = ['accuracy']\n",
        "    #  else:\n",
        "    #    loss = 'mean_squared_error'\n",
        "    #    metrics = None\n",
        "        \n",
        "    # set callback functions\n",
        "    if save:\n",
        "      saved = save_dir + \"saved_wavenet_clasifier.h5\"\n",
        "      hist = save_dir + 'wavenet_classifier_training_history.csv'\n",
        "      if validation_data is None:\n",
        "        checkpointer = ModelCheckpoint(filepath=saved, monitor='loss', verbose=1, save_best_only=True)\n",
        "      else:\n",
        "        checkpointer = ModelCheckpoint(filepath=saved, monitor='val_loss', verbose=1, save_best_only=True)\n",
        "      history = History()\n",
        "      callbacks = [history, checkpointer]\n",
        "    else:\n",
        "      callbacks = None\n",
        "      \n",
        "    # compile the model\n",
        "    self.model.compile(optimizer, loss, metrics)\n",
        "    #try:\n",
        "    self.history = self.model.fit(X, Y, shuffle = True, batch_size=batch_size, epochs = epochs, validation_data = validation_data, callbacks=callbacks, initial_epoch=self.start_idx)\n",
        "    #except:\n",
        "    #  if save:\n",
        "    #  \tdf = pd.DataFrame.from_dict(history.history)\n",
        "    #  \tdf.to_csv(hist, encoding='utf-8', index=False)\n",
        "    #  raise\n",
        "    #  sys.exit()\n",
        "    return self.history\n",
        "\n",
        "\n",
        "  def predict(self, x):\n",
        "    return self.model.predict(x)\n"
      ],
      "execution_count": 0,
      "outputs": []
    },
    {
      "metadata": {
        "id": "QYhsKIjoYibz",
        "colab_type": "code",
        "colab": {
          "base_uri": "https://localhost:8080/",
          "height": 74
        },
        "outputId": "5c3f1590-022f-476d-cbd2-64bd4fca99ae"
      },
      "cell_type": "code",
      "source": [
        "## creating exemplary dataset e.g from one 30min recording - 1800 \n",
        "\n",
        "# Tworzenie macierzy treningowej / testowej z wavów na Google dysku\n",
        "\n",
        "sample_rate = 44100\n",
        "\n",
        "main_file_path =   \"drive/My Drive/nagrania_probne/*/\"  # główny folder z subfolderami \"drive/My Drive/nagrania_probne/Test2016/*/\"\n",
        "nagranie = glob.glob(main_file_path)\n",
        "print(nagranie)\n",
        "np.size(nagranie)"
      ],
      "execution_count": 4,
      "outputs": [
        {
          "output_type": "stream",
          "text": [
            "['drive/My Drive/nagrania_probne/4szum_sredni_BUK4_20160918_013604_1s/', 'drive/My Drive/nagrania_probne/6wichura_deszcz_BUK4_20161005_022304_1s/', 'drive/My Drive/nagrania_probne/7wiatr_BUK4_20161006_002104_1s/', 'drive/My Drive/nagrania_probne/3wzgledna_cisza_BUK4_20160925_224604_1s/', 'drive/My Drive/nagrania_probne/9niski_szum_BUK4_20161025_000604_1s/', 'drive/My Drive/nagrania_probne/5szum_sredni_nakladki_BUK4_20161011_000804_1s/', 'drive/My Drive/nagrania_probne/1swierszcze_nakladki_BUK4_20160925_204604_1s/', 'drive/My Drive/nagrania_probne/BUK4_20161104_041504_1s/', 'drive/My Drive/nagrania_probne/BUK4_20161005_012304_1s/', 'drive/My Drive/nagrania_probne/BUK4_20161002_235805_1s/', 'drive/My Drive/nagrania_probne/BUK4_20161104_011504_1s/', 'drive/My Drive/nagrania_probne/BUK4_20161103_204504_1s/', 'drive/My Drive/nagrania_probne/BUK4_20161019_011904_1s/', 'drive/My Drive/nagrania_probne/BUK4_20160918_223304_1s/', 'drive/My Drive/nagrania_probne/BUK4_20160919_013304_1s/', 'drive/My Drive/nagrania_probne/BUK1_20160914_011604_1s/', 'drive/My Drive/nagrania_probne/Test2016/']\n"
          ],
          "name": "stdout"
        },
        {
          "output_type": "execute_result",
          "data": {
            "text/plain": [
              "17"
            ]
          },
          "metadata": {
            "tags": []
          },
          "execution_count": 4
        }
      ]
    },
    {
      "metadata": {
        "id": "FBt53C4UZSId",
        "colab_type": "code",
        "colab": {}
      },
      "cell_type": "code",
      "source": [
        "for j in range (1,4):  # np.size(nagranie)\n",
        "\n",
        "  print(nagranie[j])\n",
        "  file_path = nagranie[j]+ \"*.wav\"                     #\"drive/My Drive/nagrania_probne/1swierszcze_nakladki_BUK4_20160925_204604_1s/\"\n",
        "  print(file_path)\n",
        "  n_files = glob.glob(file_path)    #'drive/My Drive/nagrania_probne/1swierszcze_nakladki_BUK4_20160925_204604_67.wav'\n",
        "  sizes = [len(k) for k in n_files]\n",
        "  name_cut = max(sizes)\n",
        "  ##print(name_cut)\n",
        "  \n",
        "  file_path = sorted(glob.glob(file_path), key=lambda name: int(name[name_cut-8:-4]))    ##'drive/My Drive/nagrania_probne/1swierszcze_nakladki_BUK4_20160925_204604_67.wav'\n",
        "  ##print(file_path)\n",
        "\n",
        "  ##col, rows = 87, 60;\n",
        "  col, rows = 1799, 1;\n",
        "  n_train = 100 #np.size(file_path) #1799\n",
        "  matrix_audio = n_train*[rows*[col*[0]]]\n",
        "  ##matrix = n_train*[rows*[col*[0]]]\n",
        "\n",
        "  for i in range (0,n_train):\n",
        "    audio = librosa.core.load(file_path[i], sr=44100)[0]\n",
        "    matrix_audio[i]=audio\n",
        "    ##matrix[i] = librosa.feature.melspectrogram(y=audio, sr=44100, n_mels= n_mels, fmin = 4000, fmax=9500)\n",
        "    ##print(np.shape(mel_spec))\n",
        "    \n",
        "  ##print(np.shape(matrix))\n",
        "  ##plt.imshow(matrix[i], cmap=\"jet\")\n",
        "  nazwa_nagr = nagranie[j][31:-3]\n",
        "  print(nazwa_nagr)\n",
        "  np.save(('drive/My Drive/all_train/wavy/'+ nazwa_nagr +'100' ),matrix_audio)\n",
        "  print(np.shape(matrix_audio))"
      ],
      "execution_count": 0,
      "outputs": []
    },
    {
      "metadata": {
        "id": "wQkJ4rBmgtmV",
        "colab_type": "code",
        "colab": {}
      },
      "cell_type": "code",
      "source": [
        "# TRAIN. stworzenie jednej macierzy z wszystkimi wavami treningowymi, + anotacje\n",
        "\n",
        "file_path_wav= \"drive/My Drive/all_train/wavy/*\"   # główny folder z subfolderami \"drive/My Drive/nagrania_probne/*/\"\n",
        "fold_train = sorted(glob.glob(file_path_wav))\n",
        "print(fold_train)\n",
        "#X_train = np.load('drive/My Drive/all_train/wavy/1swierszcze_nakladki_BUK4_20160925_204604_.npy')\n",
        "\n",
        "file_path_wav_label= \"drive/My Drive/labele/labele_train/*\"   # główny folder z subfolderami \"drive/My Drive/nagrania_probne/*/\"\n",
        "fold_label = sorted(glob.glob(file_path_wav_label))\n",
        "print(fold_label)\n",
        "#y_read = pd.read_csv('drive/My Drive/labele/labele_train/1swierszcze_nakladki_BUK4_20160925_204604_1s.csv')\n",
        "#y_train = y_read.hasbird  ## [0:500] end?\n"
      ],
      "execution_count": 0,
      "outputs": []
    },
    {
      "metadata": {
        "id": "y34OI5vZmkta",
        "colab_type": "code",
        "colab": {
          "base_uri": "https://localhost:8080/",
          "height": 164
        },
        "outputId": "bfb7eafa-26c3-4ec0-9831-94977714ed64"
      },
      "cell_type": "code",
      "source": [
        "X_train=np.array([])\n",
        "y_train=np.array([])\n",
        "for i in range (0,np.size(fold_train)):  #np.size(fold_train)\n",
        "  nazwa_nagr = fold_train[i][30:]\n",
        "  B = np.load('drive/My Drive/all_train/wavy/'+ nazwa_nagr)\n",
        "  print(np.shape(B))\n",
        "  X_train = np.vstack([X_train, B]) if X_train.size else B\n",
        "  #X_train = np.concatenate((X_train,B))\n",
        "  print(nazwa_nagr)\n",
        "    \n",
        "  nazwa_pliku = fold_train[i][30:-4]\n",
        "  print(nazwa_pliku)\n",
        "  ##nazwa_label = fold_label [i][35:]\n",
        "  ##print(nazwa_label)\n",
        "  B_df = pd.read_csv('drive/My Drive/labele/labele_train/'+ nazwa_pliku + '1s.csv')\n",
        "  y_train= np.concatenate((y_train,B_df.hasbird))\n",
        "\n",
        "print(np.shape(X_train))\n",
        "print(np.size(y_train))"
      ],
      "execution_count": 9,
      "outputs": [
        {
          "output_type": "stream",
          "text": [
            "(1799, 44100)\n",
            "1swierszcze_nakladki_BUK4_20160925_204604_.npy\n",
            "1swierszcze_nakladki_BUK4_20160925_204604_\n",
            "(1799, 44100)\n",
            "5szum_sredni_nakladki_BUK4_20161011_000804_.npy\n",
            "5szum_sredni_nakladki_BUK4_20161011_000804_\n",
            "(3598, 44100)\n",
            "3598\n"
          ],
          "name": "stdout"
        }
      ]
    },
    {
      "metadata": {
        "id": "1RnyRi6Dr74f",
        "colab_type": "code",
        "colab": {}
      },
      "cell_type": "code",
      "source": [
        "wnc = WaveNetClassifier((44100,), (1,), kernel_size = 2, dilation_depth = 9, n_filters = 40) #, task = 'classification'\n",
        "\n",
        "\n"
      ],
      "execution_count": 0,
      "outputs": []
    },
    {
      "metadata": {
        "id": "2h6zhNXtWTOd",
        "colab_type": "code",
        "colab": {
          "base_uri": "https://localhost:8080/",
          "height": 256
        },
        "outputId": "e44933a1-412a-4bd5-8d75-7afd40cc6d40"
      },
      "cell_type": "code",
      "source": [
        "##from WaveNetClassifier import WaveNetClassifier\n",
        "\n",
        "wnc.fit(X_train, y_train, epochs = 3, batch_size = 32, optimizer='adam', save=True, save_dir='./')\n"
      ],
      "execution_count": 49,
      "outputs": [
        {
          "output_type": "stream",
          "text": [
            "Epoch 1/3\n",
            "3598/3598 [==============================] - 469s 130ms/step - loss: 15.1891 - acc: 0.0472\n",
            "\n",
            "Epoch 00001: loss improved from inf to 15.18913, saving model to ./saved_wavenet_clasifier.h5\n",
            "Epoch 2/3\n",
            "3598/3598 [==============================] - 463s 129ms/step - loss: 15.1891 - acc: 0.0472\n",
            "\n",
            "Epoch 00002: loss did not improve from 15.18913\n",
            "Epoch 3/3\n",
            "3598/3598 [==============================] - 463s 129ms/step - loss: 15.1891 - acc: 0.0472\n",
            "\n",
            "Epoch 00003: loss did not improve from 15.18913\n"
          ],
          "name": "stdout"
        },
        {
          "output_type": "execute_result",
          "data": {
            "text/plain": [
              "<keras.callbacks.History at 0x7f5fc07a9ac8>"
            ]
          },
          "metadata": {
            "tags": []
          },
          "execution_count": 49
        }
      ]
    },
    {
      "metadata": {
        "id": "4EjLVYx-3vtx",
        "colab_type": "code",
        "colab": {
          "base_uri": "https://localhost:8080/",
          "height": 129
        },
        "outputId": "bec07b5d-f6e4-42ec-afb7-c3ff390f0f44"
      },
      "cell_type": "code",
      "source": [
        "## tworzenie testowych macierzy \n",
        "main_file_path =   \"drive/My Drive/nagrania_probne/Test2016/*/\"  # główny folder z subfolderami \"drive/My Drive/nagrania_probne/Test2016/*/\"\n",
        "nagranie = glob.glob(main_file_path)\n",
        "print(nagranie)\n",
        "np.size(nagranie)\n",
        "\n",
        "for j in range (0,1):  # np.size(nagranie)\n",
        "\n",
        "  print(nagranie[j])\n",
        "  nazwa_nagr = nagranie[j][40:-3]\n",
        "  print(nazwa_nagr)\n",
        "  file_path = nagranie[j]+ \"*.wav\"                     #\"drive/My Drive/nagrania_probne/1swierszcze_nakladki_BUK4_20160925_204604_1s/\"\n",
        "  print(file_path)\n",
        "  n_files = glob.glob(file_path)    #'drive/My Drive/nagrania_probne/1swierszcze_nakladki_BUK4_20160925_204604_67.wav'\n",
        "  sizes = [len(k) for k in n_files]\n",
        "  name_cut = max(sizes)  \n",
        "  file_path = sorted(glob.glob(file_path), key=lambda name: int(name[name_cut-8:-4]))    ##'drive/My Drive/nagrania_probne/1swierszcze_nakladki_BUK4_20160925_204604_67.wav'\n",
        "\n",
        "  col, rows = 1799, 1;\n",
        "  n_train = np.size(file_path) #1799\n",
        "  matrix_audio = n_train*[rows*[col*[0]]]\n",
        "\n",
        "  for i in range (0,n_train):\n",
        "    matrix_audio[i]=librosa.core.load(file_path[i], sr=44100)[0]\n",
        "\n",
        "  np.save(('drive/My Drive/all_test/wavy/'+ nazwa_nagr),matrix_audio)\n",
        "  print(np.shape(matrix_audio))"
      ],
      "execution_count": 55,
      "outputs": [
        {
          "output_type": "stream",
          "text": [
            "['drive/My Drive/nagrania_probne/Test2016/BUK4_20160922_005604_1s/', 'drive/My Drive/nagrania_probne/Test2016/BUK5_20161101_002104a_1s/', 'drive/My Drive/nagrania_probne/Test2016/BUK5_20161101_002104b_1s/', 'drive/My Drive/nagrania_probne/Test2016/BUK4_20161008_004605_1s/', 'drive/My Drive/nagrania_probne/Test2016/BUK4_20161016_035704_1s/', 'drive/My Drive/nagrania_probne/Test2016/BUK4_20161016_012704_1s/']\n",
            "drive/My Drive/nagrania_probne/Test2016/BUK4_20160922_005604_1s/\n",
            "BUK4_20160922_005604_\n",
            "drive/My Drive/nagrania_probne/Test2016/BUK4_20160922_005604_1s/*.wav\n",
            "(1799, 44100)\n"
          ],
          "name": "stdout"
        }
      ]
    },
    {
      "metadata": {
        "id": "u4sot1nM79xx",
        "colab_type": "code",
        "colab": {
          "base_uri": "https://localhost:8080/",
          "height": 166
        },
        "outputId": "1f396425-22b8-4ac6-8082-a8fe939eb1b6"
      },
      "cell_type": "code",
      "source": [
        "file_path_wav= \"drive/My Drive/all_test/wavy/*\"   # główny folder z subfolderami \"drive/My Drive/nagrania_probne/*/\"\n",
        "fold_test = sorted(glob.glob(file_path_wav))\n",
        "print(fold_test)\n",
        "#X_train = np.load('drive/My Drive/all_train/wavy/1swierszcze_nakladki_BUK4_20160925_204604_.npy')\n",
        "\n",
        "file_path_wav_label= \"drive/My Drive/labele/labele_test/*\"   # główny folder z subfolderami \"drive/My Drive/nagrania_probne/*/\"\n",
        "fold_label = sorted(glob.glob(file_path_wav_label))\n",
        "print(fold_label)\n",
        "\n",
        "X_test=np.array([])\n",
        "y_test=np.array([])\n",
        "for i in range (0,np.size(fold_test)):  #np.size(fold_train)\n",
        "  nazwa_nagr = fold_test[i][29:]\n",
        "  B = np.load('drive/My Drive/all_test/wavy/'+ nazwa_nagr)\n",
        "  print(np.shape(B))\n",
        "  X_test = np.vstack([X_test, B]) if X_test.size else B\n",
        "  #X_train = np.concatenate((X_train,B))\n",
        "  print(nazwa_nagr)\n",
        "    \n",
        "  nazwa_pliku = fold_test[i][29:-4]\n",
        "  print(nazwa_pliku)\n",
        "  ##nazwa_label = fold_label [i][35:]\n",
        "  ##print(nazwa_label)\n",
        "  B_df = pd.read_csv('drive/My Drive/labele/labele_test/'+ nazwa_pliku + '1s.csv')\n",
        "  y_test= np.concatenate((y_test,B_df.hasbird))\n",
        "\n",
        "print(np.shape(X_test))\n",
        "print(np.size(y_test))"
      ],
      "execution_count": 58,
      "outputs": [
        {
          "output_type": "stream",
          "text": [
            "['drive/My Drive/all_test/wavy/BUK4_20160922_005604_.npy']\n",
            "['drive/My Drive/labele/labele_test/BUK4_20160922_005604_1s.csv', 'drive/My Drive/labele/labele_test/BUK4_20161008_004605_1s.csv', 'drive/My Drive/labele/labele_test/BUK4_20161016_012704_1s.csv', 'drive/My Drive/labele/labele_test/BUK4_20161016_035704_1s.csv', 'drive/My Drive/labele/labele_test/BUK5_20161101_002104a_1s.csv', 'drive/My Drive/labele/labele_test/BUK5_20161101_002104b_1s.csv']\n",
            "(1799, 44100)\n",
            "BUK4_20160922_005604_.npy\n",
            "BUK4_20160922_005604_\n",
            "(1799, 44100)\n",
            "1799\n"
          ],
          "name": "stdout"
        }
      ]
    },
    {
      "metadata": {
        "id": "XKPrRUntWjS6",
        "colab_type": "code",
        "colab": {}
      },
      "cell_type": "code",
      "source": [
        "y_pred = wnc.predict(X_test)"
      ],
      "execution_count": 0,
      "outputs": []
    },
    {
      "metadata": {
        "id": "_FjLjIyL-kZy",
        "colab_type": "code",
        "colab": {
          "base_uri": "https://localhost:8080/",
          "height": 380
        },
        "outputId": "d5650e40-f4a2-4d0d-9d87-85edf76d538b"
      },
      "cell_type": "code",
      "source": [
        "from sklearn.metrics import roc_auc_score\n",
        "from sklearn.metrics import roc_curve\n",
        "from matplotlib import pyplot\n",
        "\n",
        "auc = roc_auc_score(y_test, y_pred)\n",
        "print('AUC: %.3f' % auc)\n",
        "\n",
        "fpr, tpr, thresholds = roc_curve(y_test, y_pred)\n",
        "# plot no skill\n",
        "pyplot.plot([0, 1], [0, 1], linestyle='--')\n",
        "# plot the roc curve for the model\n",
        "pyplot.plot(fpr, tpr, marker='.')\n",
        "# show the plot\n",
        "plt.title('ROC curve for test set')\n",
        "pyplot.show()"
      ],
      "execution_count": 63,
      "outputs": [
        {
          "output_type": "stream",
          "text": [
            "AUC: 0.500\n"
          ],
          "name": "stdout"
        },
        {
          "output_type": "display_data",
          "data": {
            "image/png": "[encoded data removed]",
            "text/plain": [
              "<matplotlib.figure.Figure at 0x7f5fab35bc50>"
            ]
          },
          "metadata": {
            "tags": []
          }
        }
      ]
    },
    {
      "metadata": {
        "id": "eB3nONXu_Fi1",
        "colab_type": "code",
        "colab": {
          "base_uri": "https://localhost:8080/",
          "height": 35
        },
        "outputId": "3f31228b-4303-450d-acce-905669ef8716"
      },
      "cell_type": "code",
      "source": [
        "print(y_test[0:20])"
      ],
      "execution_count": 64,
      "outputs": [
        {
          "output_type": "stream",
          "text": [
            "[0. 0. 0. 0. 0. 0. 0. 0. 0. 0. 0. 0. 0. 0. 0. 1. 0. 0. 0. 0.]\n"
          ],
          "name": "stdout"
        }
      ]
    },
    {
      "metadata": {
        "id": "IBDOykRD_yhE",
        "colab_type": "code",
        "colab": {}
      },
      "cell_type": "code",
      "source": [
        ""
      ],
      "execution_count": 0,
      "outputs": []
    }
  ]
}